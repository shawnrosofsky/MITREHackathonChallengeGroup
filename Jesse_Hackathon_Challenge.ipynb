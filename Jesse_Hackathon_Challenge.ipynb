{
  "nbformat": 4,
  "nbformat_minor": 0,
  "metadata": {
    "kernelspec": {
      "display_name": "Python 3",
      "language": "python",
      "name": "python3"
    },
    "language_info": {
      "codemirror_mode": {
        "name": "ipython",
        "version": 3
      },
      "file_extension": ".py",
      "mimetype": "text/x-python",
      "name": "python",
      "nbconvert_exporter": "python",
      "pygments_lexer": "ipython3",
      "version": "3.7.4"
    },
    "colab": {
      "name": "Jesse_Hackathon_Challenge.ipynb",
      "provenance": [],
      "collapsed_sections": []
    }
  },
  "cells": [
    {
      "cell_type": "markdown",
      "metadata": {
        "id": "ANXlYFPTIjW0"
      },
      "source": [
        "# Phishing URL Detection\n",
        "\n",
        "\n",
        "From Wikipedia, https://en.wikipedia.org/wiki/Phishing\n",
        "\n",
        "> Phishing is the fraudulent attempt to obtain sensitive information such as usernames, passwords and credit card details, often for malicious reasons, by disguising as a trustworthy entity in an electronic communication. The word is a neologism created as a homophone of fishing due to the similarity of using a bait in an attempt to catch a victim. The annual worldwide impact of phishing could be as high as US$5 billion.\n",
        ">\n",
        "> Phishing is typically carried out by email spoofing or instant messaging, and it often directs users to enter personal information at a fake website, the look and feel of which are identical to the legitimate site, the only difference being the URL of the website in concern. Communications purporting to be from social web sites, auction sites, banks, online payment processors or IT administrators are often used to lure victims. Phishing emails may contain links to websites that distribute malware.\n",
        ">\n",
        "> Phishing is an example of social engineering techniques used to deceive users, and it exploits weaknesses in current web security. Attempts to deal with the growing number of reported phishing incidents include legislation, user training, public awareness, and technical security measures."
      ]
    },
    {
      "cell_type": "markdown",
      "metadata": {
        "id": "LfGTHNU6IjW3"
      },
      "source": [
        "Here's an example of a real phishing email sent in 2011 by attackers looking to get login credentials for Facebook users:\n",
        "\n",
        "<pre>\n",
        "LAST WARNING : Your account is reported to have violated the policies that are considered annoying or insulting Facebook users.\n",
        "\n",
        "Until we system will disable your account within 24 hours if you do not do the reconfirmation.\n",
        "\n",
        "Please confirm your account below:\n",
        "\n",
        "[ Link Removed ]\n",
        "\n",
        "Thanks.\n",
        "The Facebook Team\n",
        "Copyright facebook © 2011 Inc. All rights reserved.\n",
        "</pre>\n",
        "\n",
        "A victim clicking on the Phishing link would be taken to a site that looked like a pretty good copy of the Facebook login screen.\n",
        "\n",
        "<img src=\"images/Not_Facebook.png\">"
      ]
    },
    {
      "cell_type": "markdown",
      "metadata": {
        "id": "QMtZNM-SIjW4"
      },
      "source": [
        "Here are some examples of the links used in emails sent by the attackers running this phishing campaign:\n",
        "\n",
        "**Note**: These links may be dangerous to your computer. Our practice will be to \"neuter\" links by wrapping certain characters with square brackets so that you cannot click on these links, or accidentally copy/paste them into your browser.\n",
        "\n",
        "**CAUTION: DO NOT CLICK ON OR VISIT THESE LINKS!!**\n",
        "<pre>\n",
        "http[:]//team-welcome[.]at[.]ua/facebook-support[.]html\n",
        "http[:]//reportedpages[.]at[.]ua/facebook-support-account[.]html\n",
        "http[:]//www[.]facebooks[.]cloud/PayPlls[.]CEanada[.]tNZnZZlR3ZdyZZ-5RkZZDRTZZBy\n",
        "http[:]//www[.]greenaura[.]net/appz[.]westpac/westpac[.]appz/login[.]php\n",
        "http[:]//www[.]irastrum[.]com/wp-admin/mail[.]yahoo[.]com/\n",
        "http[:]//appleid[.]apple[.]com-subscriptions[.]manager508158125[.]kevinfoley[.]com\n",
        "</pre>\n",
        "**CAUTION: DO NOT CLICK ON OR VISIT THESE LINKS!!**\n",
        "\n",
        "\n",
        "Something smells a little phishy about these links. Given a close look by a human, you'd probably be able to decide pretty quickly if the link was really sent by Facebook or not. But billions of people get hundreds or thousands of emails each every day! How can defenders keep up with the onslaught by the phishers?\n",
        "\n",
        "## The Problem\n",
        "\n",
        "We want to use methods from Machine Learning to build a computer program that will automatically flag links it thinks are phishing attempts. We can do this by studying the problem, looking at data, and learning a decision rule.\n",
        "\n",
        "The dataset we will be using is named \"Phishing_Mitre_Dataset_Summer_of_AI.csv\". \n",
        "\n",
        "#### Analyze the data, build features, or use the existing features in the data to build a model, and report your findings. We will use the F1 score to evaluate the final models using a test set that we have set aside. "
      ]
    },
    {
      "cell_type": "markdown",
      "metadata": {
        "id": "Vhl6lCmiIjW5"
      },
      "source": [
        "## Explore Some Data\n",
        "\n",
        "Let's take a look at the provided features on our set of URLs. \n",
        "\n",
        "* Create Age (in Months): The age of the domain. If the value is -1, that information is not available or the domain has been deleted. \n",
        "* Expiry Age (in Months): The amount of months until the domain expires. If the value is negative, that information is not available or the domain has been deleted.\n",
        "* Update Age (in Days): The last time the domain was updated. If the value is -1, that information is not available or the domain was deleted.\n",
        "* URL: The URL of the website. Three periods have been added to the end of each URL to prevent the URL from being clicked for security purposes. \n",
        "* Label: A label to determine whether a website is a phishing link or not. 0 denotes a website that is not a phishing link, 1 denotes a website is a phishing link. "
      ]
    },
    {
      "cell_type": "code",
      "metadata": {
        "id": "b6Oy15Z4TlC1"
      },
      "source": [
        ""
      ],
      "execution_count": null,
      "outputs": []
    },
    {
      "cell_type": "code",
      "metadata": {
        "id": "PGgbCQLjTlFi"
      },
      "source": [
        ""
      ],
      "execution_count": null,
      "outputs": []
    },
    {
      "cell_type": "code",
      "metadata": {
        "id": "yIApUXQZTlID"
      },
      "source": [
        ""
      ],
      "execution_count": null,
      "outputs": []
    },
    {
      "cell_type": "code",
      "metadata": {
        "id": "YVBGoxz6I62-"
      },
      "source": [
        ""
      ],
      "execution_count": null,
      "outputs": []
    },
    {
      "cell_type": "markdown",
      "metadata": {
        "id": "K_hgg2DAKlsH"
      },
      "source": [
        "# Approach Ideas\n",
        "\n",
        "1) Load in data\n",
        "\n",
        "2) EDA -- make graphs, print out statistics -- statistics of each field, % of 0's, length of URLs, number of symbols/alpha/numeric/special characters or weird symbols/ending thing \"com\" or \"org\"/http vs https\n",
        "\n",
        "3) Research what goes into a malicious URL and try to leverage that in creating more features\n",
        "\n",
        "4) Split the data into train, validation, test (never touch the test data)\n",
        "\n",
        "5) perhaps re-encode URL as a one-hot code embedding?"
      ]
    },
    {
      "cell_type": "markdown",
      "metadata": {
        "id": "VWsfM26pTl8Z"
      },
      "source": [
        "# 1 Load in data"
      ]
    },
    {
      "cell_type": "code",
      "metadata": {
        "colab": {
          "base_uri": "https://localhost:8080/"
        },
        "id": "amfp_MNVI8AP",
        "outputId": "9281b6bd-bb09-4c98-87e5-c64c722a291f"
      },
      "source": [
        "# this mounts your Google Drive to the Colab VM.\n",
        "from google.colab import drive\n",
        "drive.mount('/content/drive', force_remount=True)\n",
        "\n",
        "FOLDERNAME = 'MITRE/Group2HackathonChallenge-main'\n",
        "\n",
        "assert FOLDERNAME is not None, \"[!] Enter the foldername.\"\n",
        "\n",
        "# now that we've mounted your Drive, this ensures that\n",
        "# the Python interpreter of the Colab VM can load\n",
        "# python files from within it.\n",
        "import sys\n",
        "sys.path.append('/content/drive/My Drive/{}'.format(FOLDERNAME))\n",
        "\n",
        "%cd drive/My\\ Drive/$FOLDERNAME/"
      ],
      "execution_count": 1,
      "outputs": [
        {
          "output_type": "stream",
          "text": [
            "Mounted at /content/drive\n",
            "/content/drive/My Drive/MITRE/Group2HackathonChallenge-main\n"
          ],
          "name": "stdout"
        }
      ]
    },
    {
      "cell_type": "code",
      "metadata": {
        "id": "-55d1-lsI3sd"
      },
      "source": [
        "import pandas\n",
        "import numpy as np\n",
        "import torch\n",
        "import matplotlib.pyplot as plt\n",
        "import tensorflow as tf\n",
        "import sklearn, skimage"
      ],
      "execution_count": 2,
      "outputs": []
    },
    {
      "cell_type": "code",
      "metadata": {
        "colab": {
          "base_uri": "https://localhost:8080/"
        },
        "id": "MVG24K7mJVBn",
        "outputId": "43a2e499-7c2c-42ee-ba31-c7deef717468"
      },
      "source": [
        "filename = sys.path[-1] + \"/training-data/Phishing_Mitre_Dataset_Summer_of_AI.csv\"\n",
        "print(filename)"
      ],
      "execution_count": 3,
      "outputs": [
        {
          "output_type": "stream",
          "text": [
            "/content/drive/My Drive/MITRE/Group2HackathonChallenge-main/training-data/Phishing_Mitre_Dataset_Summer_of_AI.csv\n"
          ],
          "name": "stdout"
        }
      ]
    },
    {
      "cell_type": "code",
      "metadata": {
        "colab": {
          "base_uri": "https://localhost:8080/",
          "height": 419
        },
        "id": "uwREXVA_JcKy",
        "outputId": "0b2b7e7f-b52d-4aa0-c598-4c02f8c4a924"
      },
      "source": [
        "df = pandas.read_csv(filename)\n",
        "df"
      ],
      "execution_count": 4,
      "outputs": [
        {
          "output_type": "execute_result",
          "data": {
            "text/html": [
              "<div>\n",
              "<style scoped>\n",
              "    .dataframe tbody tr th:only-of-type {\n",
              "        vertical-align: middle;\n",
              "    }\n",
              "\n",
              "    .dataframe tbody tr th {\n",
              "        vertical-align: top;\n",
              "    }\n",
              "\n",
              "    .dataframe thead th {\n",
              "        text-align: right;\n",
              "    }\n",
              "</style>\n",
              "<table border=\"1\" class=\"dataframe\">\n",
              "  <thead>\n",
              "    <tr style=\"text-align: right;\">\n",
              "      <th></th>\n",
              "      <th>create_age(months)</th>\n",
              "      <th>expiry_age(months)</th>\n",
              "      <th>update_age(days)</th>\n",
              "      <th>URL</th>\n",
              "      <th>Label</th>\n",
              "    </tr>\n",
              "  </thead>\n",
              "  <tbody>\n",
              "    <tr>\n",
              "      <th>0</th>\n",
              "      <td>-1</td>\n",
              "      <td>-1</td>\n",
              "      <td>-1</td>\n",
              "      <td>http://account-google-com.ngate.my/c44cca40176...</td>\n",
              "      <td>1</td>\n",
              "    </tr>\n",
              "    <tr>\n",
              "      <th>1</th>\n",
              "      <td>212</td>\n",
              "      <td>16</td>\n",
              "      <td>663</td>\n",
              "      <td>http://www.coffeespecialties.com/...</td>\n",
              "      <td>0</td>\n",
              "    </tr>\n",
              "    <tr>\n",
              "      <th>2</th>\n",
              "      <td>-1</td>\n",
              "      <td>-1</td>\n",
              "      <td>-1</td>\n",
              "      <td>http://black.pk/wp-content/2013/04/bp.postale/...</td>\n",
              "      <td>1</td>\n",
              "    </tr>\n",
              "    <tr>\n",
              "      <th>3</th>\n",
              "      <td>198</td>\n",
              "      <td>6</td>\n",
              "      <td>186</td>\n",
              "      <td>http://atomicsoda.com/manutd...</td>\n",
              "      <td>0</td>\n",
              "    </tr>\n",
              "    <tr>\n",
              "      <th>4</th>\n",
              "      <td>240</td>\n",
              "      <td>24</td>\n",
              "      <td>1684</td>\n",
              "      <td>http://bostoncoffeecake.com/...</td>\n",
              "      <td>0</td>\n",
              "    </tr>\n",
              "    <tr>\n",
              "      <th>...</th>\n",
              "      <td>...</td>\n",
              "      <td>...</td>\n",
              "      <td>...</td>\n",
              "      <td>...</td>\n",
              "      <td>...</td>\n",
              "    </tr>\n",
              "    <tr>\n",
              "      <th>4794</th>\n",
              "      <td>52</td>\n",
              "      <td>8</td>\n",
              "      <td>118</td>\n",
              "      <td>http://aridfoods.com/V4/MGen/F97a8a294cf7c5e90...</td>\n",
              "      <td>1</td>\n",
              "    </tr>\n",
              "    <tr>\n",
              "      <th>4795</th>\n",
              "      <td>-1</td>\n",
              "      <td>-1</td>\n",
              "      <td>-1</td>\n",
              "      <td>http://www.mazda.co.jp/...</td>\n",
              "      <td>0</td>\n",
              "    </tr>\n",
              "    <tr>\n",
              "      <th>4796</th>\n",
              "      <td>-1</td>\n",
              "      <td>-1</td>\n",
              "      <td>-1</td>\n",
              "      <td>http://www.fotografaemsaopaulo.com.br/wp-admin...</td>\n",
              "      <td>1</td>\n",
              "    </tr>\n",
              "    <tr>\n",
              "      <th>4797</th>\n",
              "      <td>-1</td>\n",
              "      <td>-1</td>\n",
              "      <td>-1</td>\n",
              "      <td>http://agenda.wehrensarl.ch/libraries/joomla/h...</td>\n",
              "      <td>1</td>\n",
              "    </tr>\n",
              "    <tr>\n",
              "      <th>4798</th>\n",
              "      <td>172</td>\n",
              "      <td>68</td>\n",
              "      <td>745</td>\n",
              "      <td>http://www.waterfrontrecords.com/...</td>\n",
              "      <td>0</td>\n",
              "    </tr>\n",
              "  </tbody>\n",
              "</table>\n",
              "<p>4799 rows × 5 columns</p>\n",
              "</div>"
            ],
            "text/plain": [
              "      create_age(months)  ...  Label\n",
              "0                     -1  ...      1\n",
              "1                    212  ...      0\n",
              "2                     -1  ...      1\n",
              "3                    198  ...      0\n",
              "4                    240  ...      0\n",
              "...                  ...  ...    ...\n",
              "4794                  52  ...      1\n",
              "4795                  -1  ...      0\n",
              "4796                  -1  ...      1\n",
              "4797                  -1  ...      1\n",
              "4798                 172  ...      0\n",
              "\n",
              "[4799 rows x 5 columns]"
            ]
          },
          "metadata": {
            "tags": []
          },
          "execution_count": 4
        }
      ]
    },
    {
      "cell_type": "code",
      "metadata": {
        "id": "zkNk76HNJ30_"
      },
      "source": [
        ""
      ],
      "execution_count": null,
      "outputs": []
    },
    {
      "cell_type": "markdown",
      "metadata": {
        "id": "-iwvF0WSTpvt"
      },
      "source": [
        "# 2 Exploratory Data Analysis (EDA)\n",
        "\n",
        "Note: 0 = not malicious/good, 1 = malicious/phishing/bad\n",
        "\n",
        "Don't forget to cut off the three '...' at the end of each URL!"
      ]
    },
    {
      "cell_type": "markdown",
      "metadata": {
        "id": "DiTYN3TgMl4Z"
      },
      "source": [
        "URL Features\n",
        "\n",
        "1) Length\n",
        "\n",
        "2) Number of Special Characters\n",
        "\n",
        "3) Number of URL segments (split on \"/\")\n",
        "\n",
        "4) Cut off \"http://\" \n",
        "\n",
        "5) Number of Numerical Digits\n",
        "\n",
        "6) top level domain \".com\", \".php\", etc."
      ]
    },
    {
      "cell_type": "code",
      "metadata": {
        "colab": {
          "base_uri": "https://localhost:8080/"
        },
        "id": "oL_n9MKAL1Q8",
        "outputId": "afbaeaeb-c50e-43d9-ba51-917f806ff7dc"
      },
      "source": [
        "urls = df[\"URL\"].values\n",
        "https_count = 0\n",
        "http_count = 0\n",
        "both_count = 0\n",
        "unaccounted = 0\n",
        "for url in urls:\n",
        "    if \"https://\" in url:\n",
        "        if \"http://\" not in url:\n",
        "            https_count += 1\n",
        "        else:\n",
        "            both_count += 1\n",
        "    elif \"http://\" in url:\n",
        "        http_count += 1\n",
        "    else:\n",
        "        unaccounted += 1\n",
        "\n",
        "print(\"https count:\", https_count)\n",
        "print(\"http count:\", http_count)\n",
        "print(\"http and https count:\", both_count)\n",
        "print(\"unaccounted:\", unaccounted)\n",
        "\n",
        "print(\"https percentage:\", 100*https_count/len(urls))\n",
        "\n",
        "assert len(urls) == https_count + http_count + both_count + unaccounted"
      ],
      "execution_count": 5,
      "outputs": [
        {
          "output_type": "stream",
          "text": [
            "https count: 65\n",
            "http count: 4733\n",
            "http and https count: 1\n",
            "unaccounted: 0\n",
            "https percentage: 1.3544488435090645\n"
          ],
          "name": "stdout"
        }
      ]
    },
    {
      "cell_type": "code",
      "metadata": {
        "colab": {
          "base_uri": "https://localhost:8080/"
        },
        "id": "5XwmF2dgNmMY",
        "outputId": "b0a90c50-12b5-4c87-8fed-2fc113e1177a"
      },
      "source": [
        "# condition on HTTPS URLs\n",
        "https_df = df.loc[df['URL'].str.slice(0, 8) == \"https://\"]\n",
        "print(\"Conditioned on HTTPS URLs\")\n",
        "\n",
        "https_labels = https_df[\"Label\"].values\n",
        "print(\"Number of Malicious Labels:\", sum(https_labels))\n",
        "print(\"Number of Non-Malicious Labels:\", len(https_df) - sum(https_labels))\n",
        "\n",
        "print(\"% of Malicious Labels:\", 100*sum(https_labels)/len(https_df))\n",
        "print(\"% of Non-Malicious Labels:\", 100*(len(https_df) - sum(https_labels))/len(https_df))"
      ],
      "execution_count": 6,
      "outputs": [
        {
          "output_type": "stream",
          "text": [
            "Conditioned on HTTPS URLs\n",
            "Number of Malicious Labels: 42\n",
            "Number of Non-Malicious Labels: 23\n",
            "% of Malicious Labels: 64.61538461538461\n",
            "% of Non-Malicious Labels: 35.38461538461539\n"
          ],
          "name": "stdout"
        }
      ]
    },
    {
      "cell_type": "code",
      "metadata": {
        "colab": {
          "base_uri": "https://localhost:8080/"
        },
        "id": "tSQyqOlbQzLH",
        "outputId": "0c726838-58bd-493f-c914-6918f9667ebd"
      },
      "source": [
        "# condition on HTTP URLs\n",
        "http_df = df.loc[df['URL'].str.slice(0, 7) == \"http://\"]\n",
        "print(\"Conditioned on HTTP URLs\")\n",
        "\n",
        "http_labels = http_df[\"Label\"].values\n",
        "print(\"Number of Malicious Labels:\", sum(http_labels))\n",
        "print(\"Number of Non-Malicious Labels:\", len(http_df) - sum(http_labels))\n",
        "\n",
        "print(\"% of Malicious Labels:\", 100*sum(http_labels)/len(http_df))\n",
        "print(\"% of Non-Malicious Labels:\", 100*(len(http_df) - sum(http_labels))/len(http_df))"
      ],
      "execution_count": 7,
      "outputs": [
        {
          "output_type": "stream",
          "text": [
            "Conditioned on HTTP URLs\n",
            "Number of Malicious Labels: 2513\n",
            "Number of Non-Malicious Labels: 2221\n",
            "% of Malicious Labels: 53.084072665821715\n",
            "% of Non-Malicious Labels: 46.915927334178285\n"
          ],
          "name": "stdout"
        }
      ]
    },
    {
      "cell_type": "code",
      "metadata": {
        "id": "l2wSzf_iRwql",
        "colab": {
          "base_uri": "https://localhost:8080/",
          "height": 933
        },
        "outputId": "bd7f8c31-802b-4e44-fc29-60601a7a5c74"
      },
      "source": [
        "# visualize lengths of all URLs\n",
        "url_lengths = []\n",
        "for url in urls:\n",
        "    url_lengths.append(len(url))\n",
        "\n",
        "print(\"min length:\", min(url_lengths))\n",
        "print(\"max length:\", max(url_lengths))\n",
        "\n",
        "binwidth = 1\n",
        "plt.hist(url_lengths, bins=range(min(url_lengths), max(url_lengths) + binwidth, binwidth))\n",
        "plt.title(\"All URL Lengths\")\n",
        "plt.xlabel(\"Length\")\n",
        "plt.ylabel(\"Count\")\n",
        "plt.show()\n",
        "binwidth = 5\n",
        "plt.figure(figsize=(12,10))\n",
        "plt.hist(url_lengths, bins=range(min(url_lengths), max(url_lengths) + binwidth, binwidth))\n",
        "plt.title(\"All URL Lengths\")\n",
        "plt.xlabel(\"Length\")\n",
        "plt.ylabel(\"Count\")\n",
        "\n",
        "plt.show()"
      ],
      "execution_count": 22,
      "outputs": [
        {
          "output_type": "stream",
          "text": [
            "min length: 17\n",
            "max length: 107\n"
          ],
          "name": "stdout"
        },
        {
          "output_type": "display_data",
          "data": {
            "image/png": "[encoded data removed]",
            "text/plain": [
              "<Figure size 432x288 with 1 Axes>"
            ]
          },
          "metadata": {
            "tags": [],
            "needs_background": "light"
          }
        },
        {
          "output_type": "display_data",
          "data": {
            "image/png": "[encoded data removed]",
            "text/plain": [
              "<Figure size 864x720 with 1 Axes>"
            ]
          },
          "metadata": {
            "tags": [],
            "needs_background": "light"
          }
        }
      ]
    },
    {
      "cell_type": "code",
      "metadata": {
        "id": "gm3CRHstTsoR",
        "colab": {
          "base_uri": "https://localhost:8080/",
          "height": 967
        },
        "outputId": "8d4148af-56a3-497a-91c2-5eebe160ee69"
      },
      "source": [
        "# A look at malicious URL lengths\n",
        "mal_df = df.loc[df['Label'] == 1]\n",
        "mal_urls = mal_df['URL'].values\n",
        "\n",
        "mal_url_lengths = []\n",
        "for url in mal_urls:\n",
        "    url = url[:-3]\n",
        "    mal_url_lengths.append(len(url))\n",
        "\n",
        "print(\"min length:\", min(mal_url_lengths))\n",
        "print(\"max length:\", max(mal_url_lengths))\n",
        "print(\"avg length:\", sum(mal_url_lengths)/len(mal_url_lengths))\n",
        "\n",
        "binwidth = 1\n",
        "plt.hist(mal_url_lengths, bins=range(min(mal_url_lengths), max(mal_url_lengths) + binwidth, binwidth))\n",
        "plt.title(\"Phishing URL Lengths\")\n",
        "plt.xlabel(\"Length\")\n",
        "plt.ylabel(\"Count\")\n",
        "plt.show()\n",
        "binwidth = 5\n",
        "plt.figure(figsize=(12,10))\n",
        "plt.hist(mal_url_lengths, bins=range(min(mal_url_lengths), max(mal_url_lengths) + binwidth, binwidth))\n",
        "plt.title(\"Phishing URL Lengths\")\n",
        "plt.xlabel(\"Length\")\n",
        "plt.ylabel(\"Count\")"
      ],
      "execution_count": 23,
      "outputs": [
        {
          "output_type": "stream",
          "text": [
            "min length: 16\n",
            "max length: 76\n",
            "avg length: 55.32681017612524\n"
          ],
          "name": "stdout"
        },
        {
          "output_type": "display_data",
          "data": {
            "image/png": "[encoded data removed]",
            "text/plain": [
              "<Figure size 432x288 with 1 Axes>"
            ]
          },
          "metadata": {
            "tags": [],
            "needs_background": "light"
          }
        },
        {
          "output_type": "execute_result",
          "data": {
            "text/plain": [
              "Text(0, 0.5, 'Count')"
            ]
          },
          "metadata": {
            "tags": []
          },
          "execution_count": 23
        },
        {
          "output_type": "display_data",
          "data": {
            "image/png": "[encoded data removed]",
            "text/plain": [
              "<Figure size 864x720 with 1 Axes>"
            ]
          },
          "metadata": {
            "tags": [],
            "needs_background": "light"
          }
        }
      ]
    },
    {
      "cell_type": "code",
      "metadata": {
        "id": "ONRnqQPsTsqp",
        "colab": {
          "base_uri": "https://localhost:8080/",
          "height": 967
        },
        "outputId": "3ea8e2bd-5c6c-4117-c13b-49c97c1df5e6"
      },
      "source": [
        "# A look at non-malicious URL lengths\n",
        "good_df = df.loc[df['Label'] == 0]\n",
        "good_urls = good_df['URL'].values\n",
        "\n",
        "good_url_lengths = []\n",
        "for url in good_urls:\n",
        "    url = url[:-3]\n",
        "    good_url_lengths.append(len(url))\n",
        "\n",
        "print(\"min length:\", min(good_url_lengths))\n",
        "print(\"max length:\", max(good_url_lengths))\n",
        "print(\"avg length:\", sum(good_url_lengths)/len(good_url_lengths))\n",
        "\n",
        "binwidth = 1\n",
        "plt.hist(good_url_lengths, bins=range(min(good_url_lengths), max(good_url_lengths) + binwidth, binwidth))\n",
        "plt.title(\"Non-Malicious URL Lengths\")\n",
        "plt.xlabel(\"Length\")\n",
        "plt.ylabel(\"Count\")\n",
        "plt.show()\n",
        "binwidth = 5\n",
        "plt.figure(figsize=(12,10))\n",
        "plt.hist(good_url_lengths, bins=range(min(good_url_lengths), max(good_url_lengths) + binwidth, binwidth))\n",
        "plt.title(\"Non-Phishing URL Lengths\")\n",
        "plt.xlabel(\"Length\")\n",
        "plt.ylabel(\"Count\")"
      ],
      "execution_count": 61,
      "outputs": [
        {
          "output_type": "stream",
          "text": [
            "min length: 14\n",
            "max length: 104\n",
            "avg length: 31.18048128342246\n"
          ],
          "name": "stdout"
        },
        {
          "output_type": "display_data",
          "data": {
            "image/png": "[encoded data removed]",
            "text/plain": [
              "<Figure size 432x288 with 1 Axes>"
            ]
          },
          "metadata": {
            "tags": [],
            "needs_background": "light"
          }
        },
        {
          "output_type": "execute_result",
          "data": {
            "text/plain": [
              "Text(0, 0.5, 'Count')"
            ]
          },
          "metadata": {
            "tags": []
          },
          "execution_count": 61
        },
        {
          "output_type": "display_data",
          "data": {
            "image/png": "[encoded data removed]",
            "text/plain": [
              "<Figure size 864x720 with 1 Axes>"
            ]
          },
          "metadata": {
            "tags": [],
            "needs_background": "light"
          }
        }
      ]
    },
    {
      "cell_type": "code",
      "metadata": {
        "id": "KQq2ZA8kTssx"
      },
      "source": [
        "def get_char_counts(url):\n",
        "    numbers = sum(c.isdigit() for c in url)\n",
        "    letters = sum(c.isalpha() for c in url)\n",
        "    spaces  = sum(c.isspace() for c in url)\n",
        "    others  = len(url) - numbers - letters - spaces\n",
        "    return numbers, letters, spaces, others"
      ],
      "execution_count": 62,
      "outputs": []
    },
    {
      "cell_type": "code",
      "metadata": {
        "id": "N-scV2EZTsvX",
        "colab": {
          "base_uri": "https://localhost:8080/",
          "height": 916
        },
        "outputId": "18f218a3-15a4-4e6a-ce64-30c62fabcd98"
      },
      "source": [
        "# for all URLs, inspecting character types/numerical breakdown\n",
        "numbers = []\n",
        "letters = []\n",
        "spaces = []\n",
        "others = []\n",
        "\n",
        "for url in urls:\n",
        "    url = url[:-3]\n",
        "    n, l, s, o = get_char_counts(url)\n",
        "    numbers.append(n)\n",
        "    letters.append(l)\n",
        "    spaces.append(s)\n",
        "    others.append(o)\n",
        "\n",
        "print(\"For all URLs...\")\n",
        "print(\"...the average count of numerical digits:\", sum(numbers)/len(urls))\n",
        "print(\"...the average count of letters:\", sum(letters)/len(urls))\n",
        "# print(\"...the average count of spaces:\", sum(spaces)/len(urls))\n",
        "print(\"...the average count of others:\", sum(others)/len(urls))\n",
        "\n",
        "binwidth = 1\n",
        "plt.hist(numbers, bins=range(min(numbers), max(numbers) + binwidth, binwidth))\n",
        "plt.title(\"Digits for URLs\")\n",
        "plt.xlabel(\"Number of Digits\")\n",
        "plt.ylabel(\"Count\")\n",
        "plt.show()\n",
        "\n",
        "binwidth = 2\n",
        "plt.hist(letters, bins=range(min(letters), max(letters) + binwidth, binwidth))\n",
        "plt.title(\"Letters for URLs\")\n",
        "plt.xlabel(\"Number of Letters\")\n",
        "plt.ylabel(\"Count\")\n",
        "plt.show()\n",
        "\n",
        "binwidth = 1\n",
        "plt.hist(others, bins=range(min(others), max(others) + binwidth, binwidth))\n",
        "plt.title(\"Other Characters for URLs\")\n",
        "plt.xlabel(\"Number of Other Characters\")\n",
        "plt.ylabel(\"Count\")\n",
        "plt.show()"
      ],
      "execution_count": 69,
      "outputs": [
        {
          "output_type": "stream",
          "text": [
            "For all URLs...\n",
            "...the average count of numerical digits: 2.509272765159408\n",
            "...the average count of letters: 33.429256095019795\n",
            "...the average count of others: 8.097520316732652\n"
          ],
          "name": "stdout"
        },
        {
          "output_type": "display_data",
          "data": {
            "image/png": "[encoded data removed]",
            "text/plain": [
              "<Figure size 432x288 with 1 Axes>"
            ]
          },
          "metadata": {
            "tags": [],
            "needs_background": "light"
          }
        },
        {
          "output_type": "display_data",
          "data": {
            "image/png": "[encoded data removed]",
            "text/plain": [
              "<Figure size 432x288 with 1 Axes>"
            ]
          },
          "metadata": {
            "tags": [],
            "needs_background": "light"
          }
        },
        {
          "output_type": "display_data",
          "data": {
            "image/png": "[encoded data removed]",
            "text/plain": [
              "<Figure size 432x288 with 1 Axes>"
            ]
          },
          "metadata": {
            "tags": [],
            "needs_background": "light"
          }
        }
      ]
    },
    {
      "cell_type": "code",
      "metadata": {
        "colab": {
          "base_uri": "https://localhost:8080/",
          "height": 916
        },
        "id": "QfPsoI7tbkW_",
        "outputId": "60203964-557c-4aba-c309-b6f8c09c24c0"
      },
      "source": [
        "# for good/non-malicious URLs, inspecting character types/numerical breakdown\n",
        "numbers = []\n",
        "letters = []\n",
        "spaces = []\n",
        "others = []\n",
        "\n",
        "for url in good_urls:\n",
        "    url = url[:-3]\n",
        "    n, l, s, o = get_char_counts(url)\n",
        "    numbers.append(n)\n",
        "    letters.append(l)\n",
        "    spaces.append(s)\n",
        "    others.append(o)\n",
        "\n",
        "print(\"For a non-phishing URL...\")\n",
        "print(\"...the average count of numerical digits:\", sum(numbers)/len(urls))\n",
        "print(\"...the average count of letters:\", sum(letters)/len(urls))\n",
        "# print(\"...the average count of spaces:\", sum(spaces)/len(urls))\n",
        "print(\"...the average count of others:\", sum(others)/len(urls))\n",
        "\n",
        "binwidth = 1\n",
        "plt.hist(numbers, bins=range(min(numbers), max(numbers) + binwidth, binwidth))\n",
        "plt.title(\"Digits for non-phishing URLs\")\n",
        "plt.xlabel(\"Number of Digits\")\n",
        "plt.ylabel(\"Count\")\n",
        "plt.show()\n",
        "\n",
        "binwidth = 2\n",
        "plt.hist(letters, bins=range(min(letters), max(letters) + binwidth, binwidth))\n",
        "plt.title(\"Letters for non-phishing URLs\")\n",
        "plt.xlabel(\"Number of Letters\")\n",
        "plt.ylabel(\"Count\")\n",
        "plt.show()\n",
        "\n",
        "binwidth = 1\n",
        "plt.hist(others, bins=range(min(others), max(others) + binwidth, binwidth))\n",
        "plt.title(\"Other Characters for non-phishing URLs\")\n",
        "plt.xlabel(\"Number of Other Characters\")\n",
        "plt.ylabel(\"Count\")\n",
        "plt.show()"
      ],
      "execution_count": 70,
      "outputs": [
        {
          "output_type": "stream",
          "text": [
            "For a non-phishing URL...\n",
            "...the average count of numerical digits: 0.08981037716190873\n",
            "...the average count of letters: 11.356115857470307\n",
            "...the average count of others: 3.13398624713482\n"
          ],
          "name": "stdout"
        },
        {
          "output_type": "display_data",
          "data": {
            "image/png": "[encoded data removed]",
            "text/plain": [
              "<Figure size 432x288 with 1 Axes>"
            ]
          },
          "metadata": {
            "tags": [],
            "needs_background": "light"
          }
        },
        {
          "output_type": "display_data",
          "data": {
            "image/png": "[encoded data removed]",
            "text/plain": [
              "<Figure size 432x288 with 1 Axes>"
            ]
          },
          "metadata": {
            "tags": [],
            "needs_background": "light"
          }
        },
        {
          "output_type": "display_data",
          "data": {
            "image/png": "[encoded data removed]",
            "text/plain": [
              "<Figure size 432x288 with 1 Axes>"
            ]
          },
          "metadata": {
            "tags": [],
            "needs_background": "light"
          }
        }
      ]
    },
    {
      "cell_type": "code",
      "metadata": {
        "colab": {
          "base_uri": "https://localhost:8080/",
          "height": 916
        },
        "id": "YHD5_emnbkZl",
        "outputId": "4dc61491-acdc-4e55-ef2d-be5768a54725"
      },
      "source": [
        "# for phishing/malicious URLs, inspecting character types/numerical breakdown\n",
        "numbers = []\n",
        "letters = []\n",
        "spaces = []\n",
        "others = []\n",
        "\n",
        "for url in mal_urls:\n",
        "    url = url[:-3]\n",
        "    n, l, s, o = get_char_counts(url)\n",
        "    numbers.append(n)\n",
        "    letters.append(l)\n",
        "    spaces.append(s)\n",
        "    others.append(o)\n",
        "\n",
        "print(\"For a phishing URL...\")\n",
        "print(\"...the average count of numerical digits:\", sum(numbers)/len(urls))\n",
        "print(\"...the average count of letters:\", sum(letters)/len(urls))\n",
        "# print(\"...the average count of spaces:\", sum(spaces)/len(urls))\n",
        "print(\"...the average count of others:\", sum(others)/len(urls))\n",
        "\n",
        "binwidth = 1\n",
        "plt.hist(numbers, bins=range(min(numbers), max(numbers) + binwidth, binwidth))\n",
        "plt.title(\"Digits for phishing URLs\")\n",
        "plt.xlabel(\"Number of Digits\")\n",
        "plt.ylabel(\"Count\")\n",
        "plt.show()\n",
        "\n",
        "binwidth = 2\n",
        "plt.hist(letters, bins=range(min(letters), max(letters) + binwidth, binwidth))\n",
        "plt.title(\"Letters for phishing URLs\")\n",
        "plt.xlabel(\"Number of Letters\")\n",
        "plt.ylabel(\"Count\")\n",
        "plt.show()\n",
        "\n",
        "binwidth = 1\n",
        "plt.hist(others, bins=range(min(others), max(others) + binwidth, binwidth))\n",
        "plt.title(\"Other Characters for phishing URLs\")\n",
        "plt.xlabel(\"Number of Other Characters\")\n",
        "plt.ylabel(\"Count\")\n",
        "plt.show()"
      ],
      "execution_count": 71,
      "outputs": [
        {
          "output_type": "stream",
          "text": [
            "For a phishing URL...\n",
            "...the average count of numerical digits: 2.4194623879974997\n",
            "...the average count of letters: 22.073140237549488\n",
            "...the average count of others: 4.9635340695978325\n"
          ],
          "name": "stdout"
        },
        {
          "output_type": "display_data",
          "data": {
            "image/png": "[encoded data removed]",
            "text/plain": [
              "<Figure size 432x288 with 1 Axes>"
            ]
          },
          "metadata": {
            "tags": [],
            "needs_background": "light"
          }
        },
        {
          "output_type": "display_data",
          "data": {
            "image/png": "[encoded data removed]",
            "text/plain": [
              "<Figure size 432x288 with 1 Axes>"
            ]
          },
          "metadata": {
            "tags": [],
            "needs_background": "light"
          }
        },
        {
          "output_type": "display_data",
          "data": {
            "image/png": "[encoded data removed]",
            "text/plain": [
              "<Figure size 432x288 with 1 Axes>"
            ]
          },
          "metadata": {
            "tags": [],
            "needs_background": "light"
          }
        }
      ]
    },
    {
      "cell_type": "code",
      "metadata": {
        "colab": {
          "base_uri": "https://localhost:8080/"
        },
        "id": "Mcd_GHCKdLA3",
        "outputId": "9dfcc5c6-a8df-400e-b8d8-c78d06bd1036"
      },
      "source": [
        "# Looking at domains for all URLs\n",
        "\n",
        "domains = []\n",
        "for url in urls:\n",
        "    url = url[:-3]\n",
        "    blocks = url.split('/') # split by '/'\n",
        "    words = blocks[2].split('.') # split by '.' to get the top level domain; blocks[2] is where it should be\n",
        "    domains.append(words[-1])\n",
        "\n",
        "domain_count = {}\n",
        "for domain in domains:\n",
        "    if domain not in domain_count:\n",
        "        domain_count[domain] = 0\n",
        "    domain_count[domain] += 1\n",
        "print(\"Number of Unique Domains:\", len(domain_count))\n",
        "\n",
        "domain_count = {k: v for k, v in reversed(sorted(domain_count.items(), key=lambda item: item[1]))}\n",
        "for domain in domain_count:\n",
        "    if domain_count[domain] >= 10:\n",
        "        print(domain, domain_count[domain])"
      ],
      "execution_count": 116,
      "outputs": [
        {
          "output_type": "stream",
          "text": [
            "Number of Unique Domains: 172\n",
            "com 2610\n",
            "org 246\n",
            "br 194\n",
            "net 189\n",
            "uk 163\n",
            "in 104\n",
            "au 102\n",
            "edu 91\n",
            "cc 78\n",
            "ua 59\n",
            "ru 58\n",
            "pl 58\n",
            "de 42\n",
            "ca 41\n",
            "za 34\n",
            "es 32\n",
            "info 25\n",
            "eu 25\n",
            "cl 22\n",
            "tk 21\n",
            "it 19\n",
            "gq 19\n",
            "ch 19\n",
            "cn 17\n",
            "nz 17\n",
            "fr 16\n",
            "cf 15\n",
            "ar 14\n",
            "co 14\n",
            "ro 14\n",
            "gov 13\n",
            "hk 13\n",
            "nl 13\n",
            "il 13\n",
            "biz 13\n",
            "mx 13\n",
            "gr 11\n",
            "tv 11\n",
            "my 11\n"
          ],
          "name": "stdout"
        }
      ]
    },
    {
      "cell_type": "code",
      "metadata": {
        "id": "iSGIXbJ-hEUl"
      },
      "source": [
        "# Looking at 3 fields\n",
        "\n"
      ],
      "execution_count": null,
      "outputs": []
    },
    {
      "cell_type": "code",
      "metadata": {
        "id": "hqUmxoa97X4Q"
      },
      "source": [
        ""
      ],
      "execution_count": null,
      "outputs": []
    },
    {
      "cell_type": "code",
      "metadata": {
        "id": "Q-k1F5ZR7X7A"
      },
      "source": [
        ""
      ],
      "execution_count": null,
      "outputs": []
    },
    {
      "cell_type": "code",
      "metadata": {
        "id": "N2Mlw1ve7X9w"
      },
      "source": [
        ""
      ],
      "execution_count": null,
      "outputs": []
    },
    {
      "cell_type": "code",
      "metadata": {
        "id": "ivUzY51K7X_8"
      },
      "source": [
        ""
      ],
      "execution_count": null,
      "outputs": []
    },
    {
      "cell_type": "markdown",
      "metadata": {
        "id": "SlDQsMimY6rd"
      },
      "source": [
        "# TAKEAWAYS:\n",
        "\n",
        "1) Not very many HTTPS (1.35% of all URLs) so we're working with mainly HTTP\n",
        "\n",
        "2) Phishing URLs tend to be longer (there is almost 1000 phishing URLs with a length over 70, which is on the longer end of URL lengths) with an average of 55.3 characters vs an average of 31.1 characters for non-phishing URLs\n",
        "\n",
        "3) All URLs don't really use numerical digits but phishing URLs tend to use more with an average of 2.4 digits vs good URLs with an average of 0.089 digits.\n",
        "\n",
        "4) Phishing URLs tend to use twice as many alphabetical characters with an average of 22 vs an average of 11.35 for non-phishing URLs\n",
        "\n",
        "5) No significant difference in other non-alphanumeric characters but worth investigating what the symbols are\n",
        "\n",
        "6) "
      ]
    },
    {
      "cell_type": "markdown",
      "metadata": {
        "id": "NLVeseM4T9Qy"
      },
      "source": [
        "# 3 Research into Malicious URLs\n",
        "\n",
        "[https://arxiv.org/pdf/1802.03162.pdf](https://)"
      ]
    },
    {
      "cell_type": "code",
      "metadata": {
        "id": "g2KIAR5YT9kK"
      },
      "source": [
        ""
      ],
      "execution_count": null,
      "outputs": []
    },
    {
      "cell_type": "markdown",
      "metadata": {
        "id": "taZN9XCqTs4s"
      },
      "source": [
        "# 4 Split Data"
      ]
    },
    {
      "cell_type": "code",
      "metadata": {
        "id": "8Zwh8lPdTuiM"
      },
      "source": [
        "# 80, 10, 10\n",
        "train, validate, test = np.split(df.sample(frac=1, random_state=42), [int(.8*len(df)), int(.9*len(df))])"
      ],
      "execution_count": null,
      "outputs": []
    },
    {
      "cell_type": "code",
      "metadata": {
        "id": "U_UTiNxqT4NM"
      },
      "source": [
        ""
      ],
      "execution_count": null,
      "outputs": []
    },
    {
      "cell_type": "code",
      "metadata": {
        "id": "Lbpu1IH0ySai"
      },
      "source": [
        ""
      ],
      "execution_count": null,
      "outputs": []
    },
    {
      "cell_type": "code",
      "metadata": {
        "id": "rbYskFnLySc_"
      },
      "source": [
        ""
      ],
      "execution_count": null,
      "outputs": []
    },
    {
      "cell_type": "code",
      "metadata": {
        "colab": {
          "base_uri": "https://localhost:8080/",
          "height": 439
        },
        "id": "NpUKEgkJySgJ",
        "outputId": "dfaed13e-9187-4ddd-f538-6debf169de88"
      },
      "source": [
        "# FINISHED PRODUCT\n",
        "transformed_df = pandas.read_csv(filename)\n",
        "transformed_df['length'] = transformed_df['URL'].str.len()\n",
        "transformed_df['https'] = transformed_df.apply(lambda row: 1 if \"https://\" in row.URL else 0, axis = 1)\n",
        "transformed_df['http'] = transformed_df.apply(lambda row: 1 if \"http://\" in row.URL else 0, axis = 1)\n",
        "transformed_df['subURL'] = transformed_df.apply(lambda row: row.URL[6:] if row.http == 0 else row.URL[7:], axis = 1)\n",
        "transformed_df['slashes'] = transformed_df.apply(lambda row: len(row.subURL.split('/')) - 1, axis = 1) # consider subtracting 3 instead of 1 to eliminate http://\n",
        "transformed_df['alphanum'] = transformed_df.apply(lambda row: len(\"\".join(ch for ch in row.subURL if ch.isalnum())), axis = 1) # again, consider whether to eliminate http://\n",
        "transformed_df['special'] = transformed_df.apply(lambda row: len(row.subURL) - len(\"\".join(ch for ch in row.subURL if ch.isalpha())) - 3, axis = 1) # again, consider whether to eliminate http:// -- also, subtracted 3 for ...\n",
        "transformed_df['alphanum_percent'] = transformed_df.apply(lambda row: row.alphanum/len(row.subURL), axis = 1)\n",
        "transformed_df['special_percent'] = transformed_df.apply(lambda row: row.special/len(row.subURL), axis = 1)\n",
        "transformed_df"
      ],
      "execution_count": 51,
      "outputs": [
        {
          "output_type": "execute_result",
          "data": {
            "text/html": [
              "<div>\n",
              "<style scoped>\n",
              "    .dataframe tbody tr th:only-of-type {\n",
              "        vertical-align: middle;\n",
              "    }\n",
              "\n",
              "    .dataframe tbody tr th {\n",
              "        vertical-align: top;\n",
              "    }\n",
              "\n",
              "    .dataframe thead th {\n",
              "        text-align: right;\n",
              "    }\n",
              "</style>\n",
              "<table border=\"1\" class=\"dataframe\">\n",
              "  <thead>\n",
              "    <tr style=\"text-align: right;\">\n",
              "      <th></th>\n",
              "      <th>create_age(months)</th>\n",
              "      <th>expiry_age(months)</th>\n",
              "      <th>update_age(days)</th>\n",
              "      <th>URL</th>\n",
              "      <th>Label</th>\n",
              "      <th>length</th>\n",
              "      <th>https</th>\n",
              "      <th>http</th>\n",
              "      <th>subURL</th>\n",
              "      <th>slashes</th>\n",
              "      <th>alphanum</th>\n",
              "      <th>special</th>\n",
              "      <th>alphanum_percent</th>\n",
              "      <th>special_percent</th>\n",
              "    </tr>\n",
              "  </thead>\n",
              "  <tbody>\n",
              "    <tr>\n",
              "      <th>0</th>\n",
              "      <td>-1</td>\n",
              "      <td>-1</td>\n",
              "      <td>-1</td>\n",
              "      <td>http://account-google-com.ngate.my/c44cca40176...</td>\n",
              "      <td>1</td>\n",
              "      <td>70</td>\n",
              "      <td>0</td>\n",
              "      <td>1</td>\n",
              "      <td>account-google-com.ngate.my/c44cca401760e0c1e1...</td>\n",
              "      <td>1</td>\n",
              "      <td>55</td>\n",
              "      <td>26</td>\n",
              "      <td>0.873016</td>\n",
              "      <td>0.412698</td>\n",
              "    </tr>\n",
              "    <tr>\n",
              "      <th>1</th>\n",
              "      <td>212</td>\n",
              "      <td>16</td>\n",
              "      <td>663</td>\n",
              "      <td>http://www.coffeespecialties.com/...</td>\n",
              "      <td>0</td>\n",
              "      <td>36</td>\n",
              "      <td>0</td>\n",
              "      <td>1</td>\n",
              "      <td>www.coffeespecialties.com/...</td>\n",
              "      <td>1</td>\n",
              "      <td>23</td>\n",
              "      <td>3</td>\n",
              "      <td>0.793103</td>\n",
              "      <td>0.103448</td>\n",
              "    </tr>\n",
              "    <tr>\n",
              "      <th>2</th>\n",
              "      <td>-1</td>\n",
              "      <td>-1</td>\n",
              "      <td>-1</td>\n",
              "      <td>http://black.pk/wp-content/2013/04/bp.postale/...</td>\n",
              "      <td>1</td>\n",
              "      <td>73</td>\n",
              "      <td>0</td>\n",
              "      <td>1</td>\n",
              "      <td>black.pk/wp-content/2013/04/bp.postale/9630609...</td>\n",
              "      <td>5</td>\n",
              "      <td>55</td>\n",
              "      <td>29</td>\n",
              "      <td>0.833333</td>\n",
              "      <td>0.439394</td>\n",
              "    </tr>\n",
              "    <tr>\n",
              "      <th>3</th>\n",
              "      <td>198</td>\n",
              "      <td>6</td>\n",
              "      <td>186</td>\n",
              "      <td>http://atomicsoda.com/manutd...</td>\n",
              "      <td>0</td>\n",
              "      <td>31</td>\n",
              "      <td>0</td>\n",
              "      <td>1</td>\n",
              "      <td>atomicsoda.com/manutd...</td>\n",
              "      <td>1</td>\n",
              "      <td>19</td>\n",
              "      <td>2</td>\n",
              "      <td>0.791667</td>\n",
              "      <td>0.083333</td>\n",
              "    </tr>\n",
              "    <tr>\n",
              "      <th>4</th>\n",
              "      <td>240</td>\n",
              "      <td>24</td>\n",
              "      <td>1684</td>\n",
              "      <td>http://bostoncoffeecake.com/...</td>\n",
              "      <td>0</td>\n",
              "      <td>31</td>\n",
              "      <td>0</td>\n",
              "      <td>1</td>\n",
              "      <td>bostoncoffeecake.com/...</td>\n",
              "      <td>1</td>\n",
              "      <td>19</td>\n",
              "      <td>2</td>\n",
              "      <td>0.791667</td>\n",
              "      <td>0.083333</td>\n",
              "    </tr>\n",
              "    <tr>\n",
              "      <th>...</th>\n",
              "      <td>...</td>\n",
              "      <td>...</td>\n",
              "      <td>...</td>\n",
              "      <td>...</td>\n",
              "      <td>...</td>\n",
              "      <td>...</td>\n",
              "      <td>...</td>\n",
              "      <td>...</td>\n",
              "      <td>...</td>\n",
              "      <td>...</td>\n",
              "      <td>...</td>\n",
              "      <td>...</td>\n",
              "      <td>...</td>\n",
              "      <td>...</td>\n",
              "    </tr>\n",
              "    <tr>\n",
              "      <th>4794</th>\n",
              "      <td>52</td>\n",
              "      <td>8</td>\n",
              "      <td>118</td>\n",
              "      <td>http://aridfoods.com/V4/MGen/F97a8a294cf7c5e90...</td>\n",
              "      <td>1</td>\n",
              "      <td>73</td>\n",
              "      <td>0</td>\n",
              "      <td>1</td>\n",
              "      <td>aridfoods.com/V4/MGen/F97a8a294cf7c5e90ac925a6...</td>\n",
              "      <td>4</td>\n",
              "      <td>57</td>\n",
              "      <td>25</td>\n",
              "      <td>0.863636</td>\n",
              "      <td>0.378788</td>\n",
              "    </tr>\n",
              "    <tr>\n",
              "      <th>4795</th>\n",
              "      <td>-1</td>\n",
              "      <td>-1</td>\n",
              "      <td>-1</td>\n",
              "      <td>http://www.mazda.co.jp/...</td>\n",
              "      <td>0</td>\n",
              "      <td>26</td>\n",
              "      <td>0</td>\n",
              "      <td>1</td>\n",
              "      <td>www.mazda.co.jp/...</td>\n",
              "      <td>1</td>\n",
              "      <td>12</td>\n",
              "      <td>4</td>\n",
              "      <td>0.631579</td>\n",
              "      <td>0.210526</td>\n",
              "    </tr>\n",
              "    <tr>\n",
              "      <th>4796</th>\n",
              "      <td>-1</td>\n",
              "      <td>-1</td>\n",
              "      <td>-1</td>\n",
              "      <td>http://www.fotografaemsaopaulo.com.br/wp-admin...</td>\n",
              "      <td>1</td>\n",
              "      <td>73</td>\n",
              "      <td>0</td>\n",
              "      <td>1</td>\n",
              "      <td>www.fotografaemsaopaulo.com.br/wp-admin/js/gdo...</td>\n",
              "      <td>4</td>\n",
              "      <td>55</td>\n",
              "      <td>15</td>\n",
              "      <td>0.833333</td>\n",
              "      <td>0.227273</td>\n",
              "    </tr>\n",
              "    <tr>\n",
              "      <th>4797</th>\n",
              "      <td>-1</td>\n",
              "      <td>-1</td>\n",
              "      <td>-1</td>\n",
              "      <td>http://agenda.wehrensarl.ch/libraries/joomla/h...</td>\n",
              "      <td>1</td>\n",
              "      <td>73</td>\n",
              "      <td>0</td>\n",
              "      <td>1</td>\n",
              "      <td>agenda.wehrensarl.ch/libraries/joomla/hollyuk/...</td>\n",
              "      <td>6</td>\n",
              "      <td>55</td>\n",
              "      <td>12</td>\n",
              "      <td>0.833333</td>\n",
              "      <td>0.181818</td>\n",
              "    </tr>\n",
              "    <tr>\n",
              "      <th>4798</th>\n",
              "      <td>172</td>\n",
              "      <td>68</td>\n",
              "      <td>745</td>\n",
              "      <td>http://www.waterfrontrecords.com/...</td>\n",
              "      <td>0</td>\n",
              "      <td>36</td>\n",
              "      <td>0</td>\n",
              "      <td>1</td>\n",
              "      <td>www.waterfrontrecords.com/...</td>\n",
              "      <td>1</td>\n",
              "      <td>23</td>\n",
              "      <td>3</td>\n",
              "      <td>0.793103</td>\n",
              "      <td>0.103448</td>\n",
              "    </tr>\n",
              "  </tbody>\n",
              "</table>\n",
              "<p>4799 rows × 14 columns</p>\n",
              "</div>"
            ],
            "text/plain": [
              "      create_age(months)  expiry_age(months)  ...  alphanum_percent special_percent\n",
              "0                     -1                  -1  ...          0.873016        0.412698\n",
              "1                    212                  16  ...          0.793103        0.103448\n",
              "2                     -1                  -1  ...          0.833333        0.439394\n",
              "3                    198                   6  ...          0.791667        0.083333\n",
              "4                    240                  24  ...          0.791667        0.083333\n",
              "...                  ...                 ...  ...               ...             ...\n",
              "4794                  52                   8  ...          0.863636        0.378788\n",
              "4795                  -1                  -1  ...          0.631579        0.210526\n",
              "4796                  -1                  -1  ...          0.833333        0.227273\n",
              "4797                  -1                  -1  ...          0.833333        0.181818\n",
              "4798                 172                  68  ...          0.793103        0.103448\n",
              "\n",
              "[4799 rows x 14 columns]"
            ]
          },
          "metadata": {
            "tags": []
          },
          "execution_count": 51
        }
      ]
    },
    {
      "cell_type": "markdown",
      "metadata": {
        "id": "J_-qH-pbyTdn"
      },
      "source": [
        "# Updating DataFrame w/ features"
      ]
    },
    {
      "cell_type": "markdown",
      "metadata": {
        "id": "pLgs_noryZxq"
      },
      "source": [
        "Length\n",
        "*   Number Special characters (percert)\n",
        "*   Number of slashes (split('/'))\n",
        "*   Get rid of ... and http \n",
        "*   Check whether http vs https\n",
        "*   number of numbers (percent)\n",
        "*   .com, .net, .com.mx (suffix type)\n",
        "*   number of '.' (percent)\n",
        "*   number of . in first section\n",
        "*   number of unique characters (percent)\n",
        "*   url entropy \n",
        "*   number of alphabetical characters (percent)\n",
        "*   number of hyphens (percent)"
      ]
    },
    {
      "cell_type": "code",
      "metadata": {
        "colab": {
          "base_uri": "https://localhost:8080/",
          "height": 419
        },
        "id": "C7qOkL61yShr",
        "outputId": "726983ce-e91d-4f55-ae80-a5102bf55c7c"
      },
      "source": [
        "original_df = pandas.read_csv(filename)\n",
        "original_df"
      ],
      "execution_count": 26,
      "outputs": [
        {
          "output_type": "execute_result",
          "data": {
            "text/html": [
              "<div>\n",
              "<style scoped>\n",
              "    .dataframe tbody tr th:only-of-type {\n",
              "        vertical-align: middle;\n",
              "    }\n",
              "\n",
              "    .dataframe tbody tr th {\n",
              "        vertical-align: top;\n",
              "    }\n",
              "\n",
              "    .dataframe thead th {\n",
              "        text-align: right;\n",
              "    }\n",
              "</style>\n",
              "<table border=\"1\" class=\"dataframe\">\n",
              "  <thead>\n",
              "    <tr style=\"text-align: right;\">\n",
              "      <th></th>\n",
              "      <th>create_age(months)</th>\n",
              "      <th>expiry_age(months)</th>\n",
              "      <th>update_age(days)</th>\n",
              "      <th>URL</th>\n",
              "      <th>Label</th>\n",
              "    </tr>\n",
              "  </thead>\n",
              "  <tbody>\n",
              "    <tr>\n",
              "      <th>0</th>\n",
              "      <td>-1</td>\n",
              "      <td>-1</td>\n",
              "      <td>-1</td>\n",
              "      <td>http://account-google-com.ngate.my/c44cca40176...</td>\n",
              "      <td>1</td>\n",
              "    </tr>\n",
              "    <tr>\n",
              "      <th>1</th>\n",
              "      <td>212</td>\n",
              "      <td>16</td>\n",
              "      <td>663</td>\n",
              "      <td>http://www.coffeespecialties.com/...</td>\n",
              "      <td>0</td>\n",
              "    </tr>\n",
              "    <tr>\n",
              "      <th>2</th>\n",
              "      <td>-1</td>\n",
              "      <td>-1</td>\n",
              "      <td>-1</td>\n",
              "      <td>http://black.pk/wp-content/2013/04/bp.postale/...</td>\n",
              "      <td>1</td>\n",
              "    </tr>\n",
              "    <tr>\n",
              "      <th>3</th>\n",
              "      <td>198</td>\n",
              "      <td>6</td>\n",
              "      <td>186</td>\n",
              "      <td>http://atomicsoda.com/manutd...</td>\n",
              "      <td>0</td>\n",
              "    </tr>\n",
              "    <tr>\n",
              "      <th>4</th>\n",
              "      <td>240</td>\n",
              "      <td>24</td>\n",
              "      <td>1684</td>\n",
              "      <td>http://bostoncoffeecake.com/...</td>\n",
              "      <td>0</td>\n",
              "    </tr>\n",
              "    <tr>\n",
              "      <th>...</th>\n",
              "      <td>...</td>\n",
              "      <td>...</td>\n",
              "      <td>...</td>\n",
              "      <td>...</td>\n",
              "      <td>...</td>\n",
              "    </tr>\n",
              "    <tr>\n",
              "      <th>4794</th>\n",
              "      <td>52</td>\n",
              "      <td>8</td>\n",
              "      <td>118</td>\n",
              "      <td>http://aridfoods.com/V4/MGen/F97a8a294cf7c5e90...</td>\n",
              "      <td>1</td>\n",
              "    </tr>\n",
              "    <tr>\n",
              "      <th>4795</th>\n",
              "      <td>-1</td>\n",
              "      <td>-1</td>\n",
              "      <td>-1</td>\n",
              "      <td>http://www.mazda.co.jp/...</td>\n",
              "      <td>0</td>\n",
              "    </tr>\n",
              "    <tr>\n",
              "      <th>4796</th>\n",
              "      <td>-1</td>\n",
              "      <td>-1</td>\n",
              "      <td>-1</td>\n",
              "      <td>http://www.fotografaemsaopaulo.com.br/wp-admin...</td>\n",
              "      <td>1</td>\n",
              "    </tr>\n",
              "    <tr>\n",
              "      <th>4797</th>\n",
              "      <td>-1</td>\n",
              "      <td>-1</td>\n",
              "      <td>-1</td>\n",
              "      <td>http://agenda.wehrensarl.ch/libraries/joomla/h...</td>\n",
              "      <td>1</td>\n",
              "    </tr>\n",
              "    <tr>\n",
              "      <th>4798</th>\n",
              "      <td>172</td>\n",
              "      <td>68</td>\n",
              "      <td>745</td>\n",
              "      <td>http://www.waterfrontrecords.com/...</td>\n",
              "      <td>0</td>\n",
              "    </tr>\n",
              "  </tbody>\n",
              "</table>\n",
              "<p>4799 rows × 5 columns</p>\n",
              "</div>"
            ],
            "text/plain": [
              "      create_age(months)  ...  Label\n",
              "0                     -1  ...      1\n",
              "1                    212  ...      0\n",
              "2                     -1  ...      1\n",
              "3                    198  ...      0\n",
              "4                    240  ...      0\n",
              "...                  ...  ...    ...\n",
              "4794                  52  ...      1\n",
              "4795                  -1  ...      0\n",
              "4796                  -1  ...      1\n",
              "4797                  -1  ...      1\n",
              "4798                 172  ...      0\n",
              "\n",
              "[4799 rows x 5 columns]"
            ]
          },
          "metadata": {
            "tags": []
          },
          "execution_count": 26
        }
      ]
    },
    {
      "cell_type": "code",
      "metadata": {
        "colab": {
          "base_uri": "https://localhost:8080/",
          "height": 419
        },
        "id": "L3NA5PhHy3pu",
        "outputId": "d8895d33-9c46-4234-d7a3-85b3850b19e7"
      },
      "source": [
        "original_df['length'] = original_df['URL'].str.len()\n",
        "original_df"
      ],
      "execution_count": 28,
      "outputs": [
        {
          "output_type": "execute_result",
          "data": {
            "text/html": [
              "<div>\n",
              "<style scoped>\n",
              "    .dataframe tbody tr th:only-of-type {\n",
              "        vertical-align: middle;\n",
              "    }\n",
              "\n",
              "    .dataframe tbody tr th {\n",
              "        vertical-align: top;\n",
              "    }\n",
              "\n",
              "    .dataframe thead th {\n",
              "        text-align: right;\n",
              "    }\n",
              "</style>\n",
              "<table border=\"1\" class=\"dataframe\">\n",
              "  <thead>\n",
              "    <tr style=\"text-align: right;\">\n",
              "      <th></th>\n",
              "      <th>create_age(months)</th>\n",
              "      <th>expiry_age(months)</th>\n",
              "      <th>update_age(days)</th>\n",
              "      <th>URL</th>\n",
              "      <th>Label</th>\n",
              "      <th>length</th>\n",
              "    </tr>\n",
              "  </thead>\n",
              "  <tbody>\n",
              "    <tr>\n",
              "      <th>0</th>\n",
              "      <td>-1</td>\n",
              "      <td>-1</td>\n",
              "      <td>-1</td>\n",
              "      <td>http://account-google-com.ngate.my/c44cca40176...</td>\n",
              "      <td>1</td>\n",
              "      <td>70</td>\n",
              "    </tr>\n",
              "    <tr>\n",
              "      <th>1</th>\n",
              "      <td>212</td>\n",
              "      <td>16</td>\n",
              "      <td>663</td>\n",
              "      <td>http://www.coffeespecialties.com/...</td>\n",
              "      <td>0</td>\n",
              "      <td>36</td>\n",
              "    </tr>\n",
              "    <tr>\n",
              "      <th>2</th>\n",
              "      <td>-1</td>\n",
              "      <td>-1</td>\n",
              "      <td>-1</td>\n",
              "      <td>http://black.pk/wp-content/2013/04/bp.postale/...</td>\n",
              "      <td>1</td>\n",
              "      <td>73</td>\n",
              "    </tr>\n",
              "    <tr>\n",
              "      <th>3</th>\n",
              "      <td>198</td>\n",
              "      <td>6</td>\n",
              "      <td>186</td>\n",
              "      <td>http://atomicsoda.com/manutd...</td>\n",
              "      <td>0</td>\n",
              "      <td>31</td>\n",
              "    </tr>\n",
              "    <tr>\n",
              "      <th>4</th>\n",
              "      <td>240</td>\n",
              "      <td>24</td>\n",
              "      <td>1684</td>\n",
              "      <td>http://bostoncoffeecake.com/...</td>\n",
              "      <td>0</td>\n",
              "      <td>31</td>\n",
              "    </tr>\n",
              "    <tr>\n",
              "      <th>...</th>\n",
              "      <td>...</td>\n",
              "      <td>...</td>\n",
              "      <td>...</td>\n",
              "      <td>...</td>\n",
              "      <td>...</td>\n",
              "      <td>...</td>\n",
              "    </tr>\n",
              "    <tr>\n",
              "      <th>4794</th>\n",
              "      <td>52</td>\n",
              "      <td>8</td>\n",
              "      <td>118</td>\n",
              "      <td>http://aridfoods.com/V4/MGen/F97a8a294cf7c5e90...</td>\n",
              "      <td>1</td>\n",
              "      <td>73</td>\n",
              "    </tr>\n",
              "    <tr>\n",
              "      <th>4795</th>\n",
              "      <td>-1</td>\n",
              "      <td>-1</td>\n",
              "      <td>-1</td>\n",
              "      <td>http://www.mazda.co.jp/...</td>\n",
              "      <td>0</td>\n",
              "      <td>26</td>\n",
              "    </tr>\n",
              "    <tr>\n",
              "      <th>4796</th>\n",
              "      <td>-1</td>\n",
              "      <td>-1</td>\n",
              "      <td>-1</td>\n",
              "      <td>http://www.fotografaemsaopaulo.com.br/wp-admin...</td>\n",
              "      <td>1</td>\n",
              "      <td>73</td>\n",
              "    </tr>\n",
              "    <tr>\n",
              "      <th>4797</th>\n",
              "      <td>-1</td>\n",
              "      <td>-1</td>\n",
              "      <td>-1</td>\n",
              "      <td>http://agenda.wehrensarl.ch/libraries/joomla/h...</td>\n",
              "      <td>1</td>\n",
              "      <td>73</td>\n",
              "    </tr>\n",
              "    <tr>\n",
              "      <th>4798</th>\n",
              "      <td>172</td>\n",
              "      <td>68</td>\n",
              "      <td>745</td>\n",
              "      <td>http://www.waterfrontrecords.com/...</td>\n",
              "      <td>0</td>\n",
              "      <td>36</td>\n",
              "    </tr>\n",
              "  </tbody>\n",
              "</table>\n",
              "<p>4799 rows × 6 columns</p>\n",
              "</div>"
            ],
            "text/plain": [
              "      create_age(months)  expiry_age(months)  ...  Label length\n",
              "0                     -1                  -1  ...      1     70\n",
              "1                    212                  16  ...      0     36\n",
              "2                     -1                  -1  ...      1     73\n",
              "3                    198                   6  ...      0     31\n",
              "4                    240                  24  ...      0     31\n",
              "...                  ...                 ...  ...    ...    ...\n",
              "4794                  52                   8  ...      1     73\n",
              "4795                  -1                  -1  ...      0     26\n",
              "4796                  -1                  -1  ...      1     73\n",
              "4797                  -1                  -1  ...      1     73\n",
              "4798                 172                  68  ...      0     36\n",
              "\n",
              "[4799 rows x 6 columns]"
            ]
          },
          "metadata": {
            "tags": []
          },
          "execution_count": 28
        }
      ]
    },
    {
      "cell_type": "code",
      "metadata": {
        "colab": {
          "base_uri": "https://localhost:8080/",
          "height": 419
        },
        "id": "fGFkE-qWzLB1",
        "outputId": "4611fa3d-c39f-4387-f4e4-7e0aef946602"
      },
      "source": [
        "original_df['slashes'] = original_df.apply(lambda row: len(row.URL.split('/')) - 1, axis = 1)\n",
        "original_df"
      ],
      "execution_count": 30,
      "outputs": [
        {
          "output_type": "execute_result",
          "data": {
            "text/html": [
              "<div>\n",
              "<style scoped>\n",
              "    .dataframe tbody tr th:only-of-type {\n",
              "        vertical-align: middle;\n",
              "    }\n",
              "\n",
              "    .dataframe tbody tr th {\n",
              "        vertical-align: top;\n",
              "    }\n",
              "\n",
              "    .dataframe thead th {\n",
              "        text-align: right;\n",
              "    }\n",
              "</style>\n",
              "<table border=\"1\" class=\"dataframe\">\n",
              "  <thead>\n",
              "    <tr style=\"text-align: right;\">\n",
              "      <th></th>\n",
              "      <th>create_age(months)</th>\n",
              "      <th>expiry_age(months)</th>\n",
              "      <th>update_age(days)</th>\n",
              "      <th>URL</th>\n",
              "      <th>Label</th>\n",
              "      <th>length</th>\n",
              "      <th>slashes</th>\n",
              "    </tr>\n",
              "  </thead>\n",
              "  <tbody>\n",
              "    <tr>\n",
              "      <th>0</th>\n",
              "      <td>-1</td>\n",
              "      <td>-1</td>\n",
              "      <td>-1</td>\n",
              "      <td>http://account-google-com.ngate.my/c44cca40176...</td>\n",
              "      <td>1</td>\n",
              "      <td>70</td>\n",
              "      <td>3</td>\n",
              "    </tr>\n",
              "    <tr>\n",
              "      <th>1</th>\n",
              "      <td>212</td>\n",
              "      <td>16</td>\n",
              "      <td>663</td>\n",
              "      <td>http://www.coffeespecialties.com/...</td>\n",
              "      <td>0</td>\n",
              "      <td>36</td>\n",
              "      <td>3</td>\n",
              "    </tr>\n",
              "    <tr>\n",
              "      <th>2</th>\n",
              "      <td>-1</td>\n",
              "      <td>-1</td>\n",
              "      <td>-1</td>\n",
              "      <td>http://black.pk/wp-content/2013/04/bp.postale/...</td>\n",
              "      <td>1</td>\n",
              "      <td>73</td>\n",
              "      <td>7</td>\n",
              "    </tr>\n",
              "    <tr>\n",
              "      <th>3</th>\n",
              "      <td>198</td>\n",
              "      <td>6</td>\n",
              "      <td>186</td>\n",
              "      <td>http://atomicsoda.com/manutd...</td>\n",
              "      <td>0</td>\n",
              "      <td>31</td>\n",
              "      <td>3</td>\n",
              "    </tr>\n",
              "    <tr>\n",
              "      <th>4</th>\n",
              "      <td>240</td>\n",
              "      <td>24</td>\n",
              "      <td>1684</td>\n",
              "      <td>http://bostoncoffeecake.com/...</td>\n",
              "      <td>0</td>\n",
              "      <td>31</td>\n",
              "      <td>3</td>\n",
              "    </tr>\n",
              "    <tr>\n",
              "      <th>...</th>\n",
              "      <td>...</td>\n",
              "      <td>...</td>\n",
              "      <td>...</td>\n",
              "      <td>...</td>\n",
              "      <td>...</td>\n",
              "      <td>...</td>\n",
              "      <td>...</td>\n",
              "    </tr>\n",
              "    <tr>\n",
              "      <th>4794</th>\n",
              "      <td>52</td>\n",
              "      <td>8</td>\n",
              "      <td>118</td>\n",
              "      <td>http://aridfoods.com/V4/MGen/F97a8a294cf7c5e90...</td>\n",
              "      <td>1</td>\n",
              "      <td>73</td>\n",
              "      <td>6</td>\n",
              "    </tr>\n",
              "    <tr>\n",
              "      <th>4795</th>\n",
              "      <td>-1</td>\n",
              "      <td>-1</td>\n",
              "      <td>-1</td>\n",
              "      <td>http://www.mazda.co.jp/...</td>\n",
              "      <td>0</td>\n",
              "      <td>26</td>\n",
              "      <td>3</td>\n",
              "    </tr>\n",
              "    <tr>\n",
              "      <th>4796</th>\n",
              "      <td>-1</td>\n",
              "      <td>-1</td>\n",
              "      <td>-1</td>\n",
              "      <td>http://www.fotografaemsaopaulo.com.br/wp-admin...</td>\n",
              "      <td>1</td>\n",
              "      <td>73</td>\n",
              "      <td>6</td>\n",
              "    </tr>\n",
              "    <tr>\n",
              "      <th>4797</th>\n",
              "      <td>-1</td>\n",
              "      <td>-1</td>\n",
              "      <td>-1</td>\n",
              "      <td>http://agenda.wehrensarl.ch/libraries/joomla/h...</td>\n",
              "      <td>1</td>\n",
              "      <td>73</td>\n",
              "      <td>8</td>\n",
              "    </tr>\n",
              "    <tr>\n",
              "      <th>4798</th>\n",
              "      <td>172</td>\n",
              "      <td>68</td>\n",
              "      <td>745</td>\n",
              "      <td>http://www.waterfrontrecords.com/...</td>\n",
              "      <td>0</td>\n",
              "      <td>36</td>\n",
              "      <td>3</td>\n",
              "    </tr>\n",
              "  </tbody>\n",
              "</table>\n",
              "<p>4799 rows × 7 columns</p>\n",
              "</div>"
            ],
            "text/plain": [
              "      create_age(months)  expiry_age(months)  ...  length slashes\n",
              "0                     -1                  -1  ...      70       3\n",
              "1                    212                  16  ...      36       3\n",
              "2                     -1                  -1  ...      73       7\n",
              "3                    198                   6  ...      31       3\n",
              "4                    240                  24  ...      31       3\n",
              "...                  ...                 ...  ...     ...     ...\n",
              "4794                  52                   8  ...      73       6\n",
              "4795                  -1                  -1  ...      26       3\n",
              "4796                  -1                  -1  ...      73       6\n",
              "4797                  -1                  -1  ...      73       8\n",
              "4798                 172                  68  ...      36       3\n",
              "\n",
              "[4799 rows x 7 columns]"
            ]
          },
          "metadata": {
            "tags": []
          },
          "execution_count": 30
        }
      ]
    },
    {
      "cell_type": "code",
      "metadata": {
        "colab": {
          "base_uri": "https://localhost:8080/",
          "height": 439
        },
        "id": "IPIHGUMEz_K9",
        "outputId": "1a9a6826-d098-4861-c24b-580ffe8a6c59"
      },
      "source": [
        "original_df['alphanum'] = original_df.apply(lambda row: len(\"\".join(ch for ch in row.URL if ch.isalpha())), axis = 1)\n",
        "original_df['special'] = original_df.apply(lambda row: len(row.URL) - len(\"\".join(ch for ch in row.URL if ch.isalpha())) - 3, axis = 1)\n",
        "original_df"
      ],
      "execution_count": 40,
      "outputs": [
        {
          "output_type": "execute_result",
          "data": {
            "text/html": [
              "<div>\n",
              "<style scoped>\n",
              "    .dataframe tbody tr th:only-of-type {\n",
              "        vertical-align: middle;\n",
              "    }\n",
              "\n",
              "    .dataframe tbody tr th {\n",
              "        vertical-align: top;\n",
              "    }\n",
              "\n",
              "    .dataframe thead th {\n",
              "        text-align: right;\n",
              "    }\n",
              "</style>\n",
              "<table border=\"1\" class=\"dataframe\">\n",
              "  <thead>\n",
              "    <tr style=\"text-align: right;\">\n",
              "      <th></th>\n",
              "      <th>create_age(months)</th>\n",
              "      <th>expiry_age(months)</th>\n",
              "      <th>update_age(days)</th>\n",
              "      <th>URL</th>\n",
              "      <th>Label</th>\n",
              "      <th>length</th>\n",
              "      <th>slashes</th>\n",
              "      <th>alphanum</th>\n",
              "    </tr>\n",
              "  </thead>\n",
              "  <tbody>\n",
              "    <tr>\n",
              "      <th>0</th>\n",
              "      <td>-1</td>\n",
              "      <td>-1</td>\n",
              "      <td>-1</td>\n",
              "      <td>http://account-google-com.ngate.my/c44cca40176...</td>\n",
              "      <td>1</td>\n",
              "      <td>70</td>\n",
              "      <td>3</td>\n",
              "      <td>38</td>\n",
              "    </tr>\n",
              "    <tr>\n",
              "      <th>1</th>\n",
              "      <td>212</td>\n",
              "      <td>16</td>\n",
              "      <td>663</td>\n",
              "      <td>http://www.coffeespecialties.com/...</td>\n",
              "      <td>0</td>\n",
              "      <td>36</td>\n",
              "      <td>3</td>\n",
              "      <td>27</td>\n",
              "    </tr>\n",
              "    <tr>\n",
              "      <th>2</th>\n",
              "      <td>-1</td>\n",
              "      <td>-1</td>\n",
              "      <td>-1</td>\n",
              "      <td>http://black.pk/wp-content/2013/04/bp.postale/...</td>\n",
              "      <td>1</td>\n",
              "      <td>73</td>\n",
              "      <td>7</td>\n",
              "      <td>38</td>\n",
              "    </tr>\n",
              "    <tr>\n",
              "      <th>3</th>\n",
              "      <td>198</td>\n",
              "      <td>6</td>\n",
              "      <td>186</td>\n",
              "      <td>http://atomicsoda.com/manutd...</td>\n",
              "      <td>0</td>\n",
              "      <td>31</td>\n",
              "      <td>3</td>\n",
              "      <td>23</td>\n",
              "    </tr>\n",
              "    <tr>\n",
              "      <th>4</th>\n",
              "      <td>240</td>\n",
              "      <td>24</td>\n",
              "      <td>1684</td>\n",
              "      <td>http://bostoncoffeecake.com/...</td>\n",
              "      <td>0</td>\n",
              "      <td>31</td>\n",
              "      <td>3</td>\n",
              "      <td>23</td>\n",
              "    </tr>\n",
              "    <tr>\n",
              "      <th>...</th>\n",
              "      <td>...</td>\n",
              "      <td>...</td>\n",
              "      <td>...</td>\n",
              "      <td>...</td>\n",
              "      <td>...</td>\n",
              "      <td>...</td>\n",
              "      <td>...</td>\n",
              "      <td>...</td>\n",
              "    </tr>\n",
              "    <tr>\n",
              "      <th>4794</th>\n",
              "      <td>52</td>\n",
              "      <td>8</td>\n",
              "      <td>118</td>\n",
              "      <td>http://aridfoods.com/V4/MGen/F97a8a294cf7c5e90...</td>\n",
              "      <td>1</td>\n",
              "      <td>73</td>\n",
              "      <td>6</td>\n",
              "      <td>42</td>\n",
              "    </tr>\n",
              "    <tr>\n",
              "      <th>4795</th>\n",
              "      <td>-1</td>\n",
              "      <td>-1</td>\n",
              "      <td>-1</td>\n",
              "      <td>http://www.mazda.co.jp/...</td>\n",
              "      <td>0</td>\n",
              "      <td>26</td>\n",
              "      <td>3</td>\n",
              "      <td>16</td>\n",
              "    </tr>\n",
              "    <tr>\n",
              "      <th>4796</th>\n",
              "      <td>-1</td>\n",
              "      <td>-1</td>\n",
              "      <td>-1</td>\n",
              "      <td>http://www.fotografaemsaopaulo.com.br/wp-admin...</td>\n",
              "      <td>1</td>\n",
              "      <td>73</td>\n",
              "      <td>6</td>\n",
              "      <td>52</td>\n",
              "    </tr>\n",
              "    <tr>\n",
              "      <th>4797</th>\n",
              "      <td>-1</td>\n",
              "      <td>-1</td>\n",
              "      <td>-1</td>\n",
              "      <td>http://agenda.wehrensarl.ch/libraries/joomla/h...</td>\n",
              "      <td>1</td>\n",
              "      <td>73</td>\n",
              "      <td>8</td>\n",
              "      <td>55</td>\n",
              "    </tr>\n",
              "    <tr>\n",
              "      <th>4798</th>\n",
              "      <td>172</td>\n",
              "      <td>68</td>\n",
              "      <td>745</td>\n",
              "      <td>http://www.waterfrontrecords.com/...</td>\n",
              "      <td>0</td>\n",
              "      <td>36</td>\n",
              "      <td>3</td>\n",
              "      <td>27</td>\n",
              "    </tr>\n",
              "  </tbody>\n",
              "</table>\n",
              "<p>4799 rows × 8 columns</p>\n",
              "</div>"
            ],
            "text/plain": [
              "      create_age(months)  expiry_age(months)  ...  slashes alphanum\n",
              "0                     -1                  -1  ...        3       38\n",
              "1                    212                  16  ...        3       27\n",
              "2                     -1                  -1  ...        7       38\n",
              "3                    198                   6  ...        3       23\n",
              "4                    240                  24  ...        3       23\n",
              "...                  ...                 ...  ...      ...      ...\n",
              "4794                  52                   8  ...        6       42\n",
              "4795                  -1                  -1  ...        3       16\n",
              "4796                  -1                  -1  ...        6       52\n",
              "4797                  -1                  -1  ...        8       55\n",
              "4798                 172                  68  ...        3       27\n",
              "\n",
              "[4799 rows x 8 columns]"
            ]
          },
          "metadata": {
            "tags": []
          },
          "execution_count": 40
        }
      ]
    },
    {
      "cell_type": "code",
      "metadata": {
        "colab": {
          "base_uri": "https://localhost:8080/",
          "height": 439
        },
        "id": "AeK6bWHr0l2-",
        "outputId": "71537c5e-c736-4d68-c144-8d8bf999d223"
      },
      "source": [
        "original_df['https'] = original_df.apply(lambda row: 1 if \"https://\" in row.URL else 0, axis = 1)\n",
        "original_df['http'] = original_df.apply(lambda row: 1 if \"http://\" in row.URL else 0, axis = 1)\n",
        "original_df"
      ],
      "execution_count": 47,
      "outputs": [
        {
          "output_type": "execute_result",
          "data": {
            "text/html": [
              "<div>\n",
              "<style scoped>\n",
              "    .dataframe tbody tr th:only-of-type {\n",
              "        vertical-align: middle;\n",
              "    }\n",
              "\n",
              "    .dataframe tbody tr th {\n",
              "        vertical-align: top;\n",
              "    }\n",
              "\n",
              "    .dataframe thead th {\n",
              "        text-align: right;\n",
              "    }\n",
              "</style>\n",
              "<table border=\"1\" class=\"dataframe\">\n",
              "  <thead>\n",
              "    <tr style=\"text-align: right;\">\n",
              "      <th></th>\n",
              "      <th>create_age(months)</th>\n",
              "      <th>expiry_age(months)</th>\n",
              "      <th>update_age(days)</th>\n",
              "      <th>URL</th>\n",
              "      <th>Label</th>\n",
              "      <th>length</th>\n",
              "      <th>slashes</th>\n",
              "      <th>alphanum</th>\n",
              "      <th>https</th>\n",
              "      <th>http</th>\n",
              "    </tr>\n",
              "  </thead>\n",
              "  <tbody>\n",
              "    <tr>\n",
              "      <th>0</th>\n",
              "      <td>-1</td>\n",
              "      <td>-1</td>\n",
              "      <td>-1</td>\n",
              "      <td>http://account-google-com.ngate.my/c44cca40176...</td>\n",
              "      <td>1</td>\n",
              "      <td>70</td>\n",
              "      <td>3</td>\n",
              "      <td>38</td>\n",
              "      <td>0</td>\n",
              "      <td>1</td>\n",
              "    </tr>\n",
              "    <tr>\n",
              "      <th>1</th>\n",
              "      <td>212</td>\n",
              "      <td>16</td>\n",
              "      <td>663</td>\n",
              "      <td>http://www.coffeespecialties.com/...</td>\n",
              "      <td>0</td>\n",
              "      <td>36</td>\n",
              "      <td>3</td>\n",
              "      <td>27</td>\n",
              "      <td>0</td>\n",
              "      <td>1</td>\n",
              "    </tr>\n",
              "    <tr>\n",
              "      <th>2</th>\n",
              "      <td>-1</td>\n",
              "      <td>-1</td>\n",
              "      <td>-1</td>\n",
              "      <td>http://black.pk/wp-content/2013/04/bp.postale/...</td>\n",
              "      <td>1</td>\n",
              "      <td>73</td>\n",
              "      <td>7</td>\n",
              "      <td>38</td>\n",
              "      <td>0</td>\n",
              "      <td>1</td>\n",
              "    </tr>\n",
              "    <tr>\n",
              "      <th>3</th>\n",
              "      <td>198</td>\n",
              "      <td>6</td>\n",
              "      <td>186</td>\n",
              "      <td>http://atomicsoda.com/manutd...</td>\n",
              "      <td>0</td>\n",
              "      <td>31</td>\n",
              "      <td>3</td>\n",
              "      <td>23</td>\n",
              "      <td>0</td>\n",
              "      <td>1</td>\n",
              "    </tr>\n",
              "    <tr>\n",
              "      <th>4</th>\n",
              "      <td>240</td>\n",
              "      <td>24</td>\n",
              "      <td>1684</td>\n",
              "      <td>http://bostoncoffeecake.com/...</td>\n",
              "      <td>0</td>\n",
              "      <td>31</td>\n",
              "      <td>3</td>\n",
              "      <td>23</td>\n",
              "      <td>0</td>\n",
              "      <td>1</td>\n",
              "    </tr>\n",
              "    <tr>\n",
              "      <th>...</th>\n",
              "      <td>...</td>\n",
              "      <td>...</td>\n",
              "      <td>...</td>\n",
              "      <td>...</td>\n",
              "      <td>...</td>\n",
              "      <td>...</td>\n",
              "      <td>...</td>\n",
              "      <td>...</td>\n",
              "      <td>...</td>\n",
              "      <td>...</td>\n",
              "    </tr>\n",
              "    <tr>\n",
              "      <th>4794</th>\n",
              "      <td>52</td>\n",
              "      <td>8</td>\n",
              "      <td>118</td>\n",
              "      <td>http://aridfoods.com/V4/MGen/F97a8a294cf7c5e90...</td>\n",
              "      <td>1</td>\n",
              "      <td>73</td>\n",
              "      <td>6</td>\n",
              "      <td>42</td>\n",
              "      <td>0</td>\n",
              "      <td>1</td>\n",
              "    </tr>\n",
              "    <tr>\n",
              "      <th>4795</th>\n",
              "      <td>-1</td>\n",
              "      <td>-1</td>\n",
              "      <td>-1</td>\n",
              "      <td>http://www.mazda.co.jp/...</td>\n",
              "      <td>0</td>\n",
              "      <td>26</td>\n",
              "      <td>3</td>\n",
              "      <td>16</td>\n",
              "      <td>0</td>\n",
              "      <td>1</td>\n",
              "    </tr>\n",
              "    <tr>\n",
              "      <th>4796</th>\n",
              "      <td>-1</td>\n",
              "      <td>-1</td>\n",
              "      <td>-1</td>\n",
              "      <td>http://www.fotografaemsaopaulo.com.br/wp-admin...</td>\n",
              "      <td>1</td>\n",
              "      <td>73</td>\n",
              "      <td>6</td>\n",
              "      <td>52</td>\n",
              "      <td>0</td>\n",
              "      <td>1</td>\n",
              "    </tr>\n",
              "    <tr>\n",
              "      <th>4797</th>\n",
              "      <td>-1</td>\n",
              "      <td>-1</td>\n",
              "      <td>-1</td>\n",
              "      <td>http://agenda.wehrensarl.ch/libraries/joomla/h...</td>\n",
              "      <td>1</td>\n",
              "      <td>73</td>\n",
              "      <td>8</td>\n",
              "      <td>55</td>\n",
              "      <td>0</td>\n",
              "      <td>1</td>\n",
              "    </tr>\n",
              "    <tr>\n",
              "      <th>4798</th>\n",
              "      <td>172</td>\n",
              "      <td>68</td>\n",
              "      <td>745</td>\n",
              "      <td>http://www.waterfrontrecords.com/...</td>\n",
              "      <td>0</td>\n",
              "      <td>36</td>\n",
              "      <td>3</td>\n",
              "      <td>27</td>\n",
              "      <td>0</td>\n",
              "      <td>1</td>\n",
              "    </tr>\n",
              "  </tbody>\n",
              "</table>\n",
              "<p>4799 rows × 10 columns</p>\n",
              "</div>"
            ],
            "text/plain": [
              "      create_age(months)  expiry_age(months)  ...  https http\n",
              "0                     -1                  -1  ...      0    1\n",
              "1                    212                  16  ...      0    1\n",
              "2                     -1                  -1  ...      0    1\n",
              "3                    198                   6  ...      0    1\n",
              "4                    240                  24  ...      0    1\n",
              "...                  ...                 ...  ...    ...  ...\n",
              "4794                  52                   8  ...      0    1\n",
              "4795                  -1                  -1  ...      0    1\n",
              "4796                  -1                  -1  ...      0    1\n",
              "4797                  -1                  -1  ...      0    1\n",
              "4798                 172                  68  ...      0    1\n",
              "\n",
              "[4799 rows x 10 columns]"
            ]
          },
          "metadata": {
            "tags": []
          },
          "execution_count": 47
        }
      ]
    },
    {
      "cell_type": "code",
      "metadata": {
        "id": "dZK8-qQT3yBk"
      },
      "source": [
        ""
      ],
      "execution_count": null,
      "outputs": []
    },
    {
      "cell_type": "code",
      "metadata": {
        "id": "8fdWYmTQ6-tp"
      },
      "source": [
        "def drawHist(hist_list, title, xlabel, ylabel, binwidth = 5):\n",
        "    plt.figure(figsize=(12, 10))\n",
        "    plt.hist(hist_list, bins=range(min(hist_list), max(hist_list) + binwidth, binwidth))\n",
        "    plt.title(title)\n",
        "    plt.xlabel(xlabel)\n",
        "    plt.ylabel(ylabel)\n",
        "    plt.show()"
      ],
      "execution_count": 53,
      "outputs": []
    },
    {
      "cell_type": "code",
      "metadata": {
        "id": "6Th_Qs627aR2"
      },
      "source": [
        "# from numpy import array\n",
        "\n",
        "# alphanum = array(transformed_df['alphanum_percent'])\n",
        "# drawHist(alphanum.astype('float'), 'Alphabet/Digits Percentage in URL', 'Percentage', 'Count')"
      ],
      "execution_count": 72,
      "outputs": []
    },
    {
      "cell_type": "code",
      "metadata": {
        "id": "2MZhOEws7aUW"
      },
      "source": [
        ""
      ],
      "execution_count": null,
      "outputs": []
    },
    {
      "cell_type": "code",
      "metadata": {
        "id": "ivZMJqa47aXY"
      },
      "source": [
        ""
      ],
      "execution_count": null,
      "outputs": []
    }
  ]
}