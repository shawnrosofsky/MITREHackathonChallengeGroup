{
  "nbformat": 4,
  "nbformat_minor": 0,
  "metadata": {
    "kernelspec": {
      "display_name": "Python 3",
      "language": "python",
      "name": "python3"
    },
    "language_info": {
      "codemirror_mode": {
        "name": "ipython",
        "version": 3
      },
      "file_extension": ".py",
      "mimetype": "text/x-python",
      "name": "python",
      "nbconvert_exporter": "python",
      "pygments_lexer": "ipython3",
      "version": "3.7.4"
    },
    "colab": {
      "name": "Group2_Summer_of_AI_Cyber_Challenge.ipynb",
      "provenance": [],
      "collapsed_sections": [],
      "include_colab_link": true
    }
  },
  "cells": [
    {
      "cell_type": "markdown",
      "metadata": {
        "id": "view-in-github",
        "colab_type": "text"
      },
      "source": [
        "<a href=\"https://colab.research.google.com/github/shawnrosofsky/MITREHackathonChallengeGroup/blob/main/Group2_Summer_of_AI_Cyber_Challenge.ipynb\" target=\"_parent\"><img src=\"https://colab.research.google.com/assets/colab-badge.svg\" alt=\"Open In Colab\"/></a>"
      ]
    },
    {
      "cell_type": "markdown",
      "metadata": {
        "id": "_q70GoXvIodM"
      },
      "source": [
        "# Phishing URL Detection\n",
        "\n",
        "\n",
        "From Wikipedia, https://en.wikipedia.org/wiki/Phishing\n",
        "\n",
        "> Phishing is the fraudulent attempt to obtain sensitive information such as usernames, passwords and credit card details, often for malicious reasons, by disguising as a trustworthy entity in an electronic communication. The word is a neologism created as a homophone of fishing due to the similarity of using a bait in an attempt to catch a victim. The annual worldwide impact of phishing could be as high as US$5 billion.\n",
        ">\n",
        "> Phishing is typically carried out by email spoofing or instant messaging, and it often directs users to enter personal information at a fake website, the look and feel of which are identical to the legitimate site, the only difference being the URL of the website in concern. Communications purporting to be from social web sites, auction sites, banks, online payment processors or IT administrators are often used to lure victims. Phishing emails may contain links to websites that distribute malware.\n",
        ">\n",
        "> Phishing is an example of social engineering techniques used to deceive users, and it exploits weaknesses in current web security. Attempts to deal with the growing number of reported phishing incidents include legislation, user training, public awareness, and technical security measures."
      ]
    },
    {
      "cell_type": "markdown",
      "metadata": {
        "id": "CIrGh325Ioh4"
      },
      "source": [
        "Here's an example of a real phishing email sent in 2011 by attackers looking to get login credentials for Facebook users:\n",
        "\n",
        "<pre>\n",
        "LAST WARNING : Your account is reported to have violated the policies that are considered annoying or insulting Facebook users.\n",
        "\n",
        "Until we system will disable your account within 24 hours if you do not do the reconfirmation.\n",
        "\n",
        "Please confirm your account below:\n",
        "\n",
        "[ Link Removed ]\n",
        "\n",
        "Thanks.\n",
        "The Facebook Team\n",
        "Copyright facebook © 2011 Inc. All rights reserved.\n",
        "</pre>\n",
        "\n",
        "A victim clicking on the Phishing link would be taken to a site that looked like a pretty good copy of the Facebook login screen.\n",
        "\n",
        "<img src=\"https://github.com/shawnrosofsky/MITREHackathonChallengeGroup/blob/main/images/Not_Facebook.png?raw=1\">"
      ]
    },
    {
      "cell_type": "markdown",
      "metadata": {
        "id": "WTRudWeAIoh7"
      },
      "source": [
        "Here are some examples of the links used in emails sent by the attackers running this phishing campaign:\n",
        "\n",
        "**Note**: These links may be dangerous to your computer. Our practice will be to \"neuter\" links by wrapping certain characters with square brackets so that you cannot click on these links, or accidentally copy/paste them into your browser.\n",
        "\n",
        "**CAUTION: DO NOT CLICK ON OR VISIT THESE LINKS!!**\n",
        "<pre>\n",
        "http[:]//team-welcome[.]at[.]ua/facebook-support[.]html\n",
        "http[:]//reportedpages[.]at[.]ua/facebook-support-account[.]html\n",
        "http[:]//www[.]facebooks[.]cloud/PayPlls[.]CEanada[.]tNZnZZlR3ZdyZZ-5RkZZDRTZZBy\n",
        "http[:]//www[.]greenaura[.]net/appz[.]westpac/westpac[.]appz/login[.]php\n",
        "http[:]//www[.]irastrum[.]com/wp-admin/mail[.]yahoo[.]com/\n",
        "http[:]//appleid[.]apple[.]com-subscriptions[.]manager508158125[.]kevinfoley[.]com\n",
        "</pre>\n",
        "**CAUTION: DO NOT CLICK ON OR VISIT THESE LINKS!!**\n",
        "\n",
        "\n",
        "Something smells a little phishy about these links. Given a close look by a human, you'd probably be able to decide pretty quickly if the link was really sent by Facebook or not. But billions of people get hundreds or thousands of emails each every day! How can defenders keep up with the onslaught by the phishers?\n",
        "\n",
        "## The Problem\n",
        "\n",
        "We want to use methods from Machine Learning to build a computer program that will automatically flag links it thinks are phishing attempts. We can do this by studying the problem, looking at data, and learning a decision rule.\n",
        "\n",
        "The dataset we will be using is named \"Phishing_Mitre_Dataset_Summer_of_AI.csv\". \n",
        "\n",
        "#### Analyze the data, build features, or use the existing features in the data to build a model, and report your findings. We will use the F1 score to evaluate the final models using a test set that we have set aside. "
      ]
    },
    {
      "cell_type": "markdown",
      "metadata": {
        "id": "5CdrVoR0IoiE"
      },
      "source": [
        "## Explore Some Data\n",
        "\n",
        "Let's take a look at the provided features on our set of URLs. \n",
        "\n",
        "* Create Age (in Months): The age of the domain. If the value is -1, that information is not available or the domain has been deleted. \n",
        "* Expiry Age (in Months): The amount of months until the domain expires. If the value is negative, that information is not available or the domain has been deleted.\n",
        "* Update Age (in Days): The last time the domain was updated. If the value is -1, that information is not available or the domain was deleted.\n",
        "* URL: The URL of the website. Three periods have been added to the end of each URL to prevent the URL from being clicked for security purposes. \n",
        "* Label: A label to determine whether a website is a phishing link or not. 0 denotes a website that is not a phishing link, 1 denotes a website is a phishing link. "
      ]
    },
    {
      "cell_type": "code",
      "metadata": {
        "id": "OA7pZxYdIyVP"
      },
      "source": [
        "import pandas as pd\n",
        "import numpy\n",
        "import torch\n",
        "import matplotlib.pyplot as plt\n",
        "import tensorflow as tf\n",
        "import sklearn, skimage"
      ],
      "execution_count": 1,
      "outputs": []
    },
    {
      "cell_type": "code",
      "metadata": {
        "id": "6j4HZy8TJJ2U"
      },
      "source": [
        "file = 'Phishing_Mitre_Dataset_Summer_of_AI.csv'"
      ],
      "execution_count": 4,
      "outputs": []
    },
    {
      "cell_type": "code",
      "metadata": {
        "id": "p09SX6U7JSAi"
      },
      "source": [
        "data = pd.read_csv(file)"
      ],
      "execution_count": 5,
      "outputs": []
    },
    {
      "cell_type": "code",
      "metadata": {
        "colab": {
          "base_uri": "https://localhost:8080/",
          "height": 420
        },
        "id": "tulPhcTmKLsL",
        "outputId": "f4363905-641a-48f1-970a-a87843999085"
      },
      "source": [
        "data"
      ],
      "execution_count": 6,
      "outputs": [
        {
          "output_type": "execute_result",
          "data": {
            "text/html": [
              "<div>\n",
              "<style scoped>\n",
              "    .dataframe tbody tr th:only-of-type {\n",
              "        vertical-align: middle;\n",
              "    }\n",
              "\n",
              "    .dataframe tbody tr th {\n",
              "        vertical-align: top;\n",
              "    }\n",
              "\n",
              "    .dataframe thead th {\n",
              "        text-align: right;\n",
              "    }\n",
              "</style>\n",
              "<table border=\"1\" class=\"dataframe\">\n",
              "  <thead>\n",
              "    <tr style=\"text-align: right;\">\n",
              "      <th></th>\n",
              "      <th>create_age(months)</th>\n",
              "      <th>expiry_age(months)</th>\n",
              "      <th>update_age(days)</th>\n",
              "      <th>URL</th>\n",
              "      <th>Label</th>\n",
              "    </tr>\n",
              "  </thead>\n",
              "  <tbody>\n",
              "    <tr>\n",
              "      <th>0</th>\n",
              "      <td>-1</td>\n",
              "      <td>-1</td>\n",
              "      <td>-1</td>\n",
              "      <td>http://account-google-com.ngate.my/c44cca40176...</td>\n",
              "      <td>1</td>\n",
              "    </tr>\n",
              "    <tr>\n",
              "      <th>1</th>\n",
              "      <td>212</td>\n",
              "      <td>16</td>\n",
              "      <td>663</td>\n",
              "      <td>http://www.coffeespecialties.com/...</td>\n",
              "      <td>0</td>\n",
              "    </tr>\n",
              "    <tr>\n",
              "      <th>2</th>\n",
              "      <td>-1</td>\n",
              "      <td>-1</td>\n",
              "      <td>-1</td>\n",
              "      <td>http://black.pk/wp-content/2013/04/bp.postale/...</td>\n",
              "      <td>1</td>\n",
              "    </tr>\n",
              "    <tr>\n",
              "      <th>3</th>\n",
              "      <td>198</td>\n",
              "      <td>6</td>\n",
              "      <td>186</td>\n",
              "      <td>http://atomicsoda.com/manutd...</td>\n",
              "      <td>0</td>\n",
              "    </tr>\n",
              "    <tr>\n",
              "      <th>4</th>\n",
              "      <td>240</td>\n",
              "      <td>24</td>\n",
              "      <td>1684</td>\n",
              "      <td>http://bostoncoffeecake.com/...</td>\n",
              "      <td>0</td>\n",
              "    </tr>\n",
              "    <tr>\n",
              "      <th>...</th>\n",
              "      <td>...</td>\n",
              "      <td>...</td>\n",
              "      <td>...</td>\n",
              "      <td>...</td>\n",
              "      <td>...</td>\n",
              "    </tr>\n",
              "    <tr>\n",
              "      <th>4794</th>\n",
              "      <td>52</td>\n",
              "      <td>8</td>\n",
              "      <td>118</td>\n",
              "      <td>http://aridfoods.com/V4/MGen/F97a8a294cf7c5e90...</td>\n",
              "      <td>1</td>\n",
              "    </tr>\n",
              "    <tr>\n",
              "      <th>4795</th>\n",
              "      <td>-1</td>\n",
              "      <td>-1</td>\n",
              "      <td>-1</td>\n",
              "      <td>http://www.mazda.co.jp/...</td>\n",
              "      <td>0</td>\n",
              "    </tr>\n",
              "    <tr>\n",
              "      <th>4796</th>\n",
              "      <td>-1</td>\n",
              "      <td>-1</td>\n",
              "      <td>-1</td>\n",
              "      <td>http://www.fotografaemsaopaulo.com.br/wp-admin...</td>\n",
              "      <td>1</td>\n",
              "    </tr>\n",
              "    <tr>\n",
              "      <th>4797</th>\n",
              "      <td>-1</td>\n",
              "      <td>-1</td>\n",
              "      <td>-1</td>\n",
              "      <td>http://agenda.wehrensarl.ch/libraries/joomla/h...</td>\n",
              "      <td>1</td>\n",
              "    </tr>\n",
              "    <tr>\n",
              "      <th>4798</th>\n",
              "      <td>172</td>\n",
              "      <td>68</td>\n",
              "      <td>745</td>\n",
              "      <td>http://www.waterfrontrecords.com/...</td>\n",
              "      <td>0</td>\n",
              "    </tr>\n",
              "  </tbody>\n",
              "</table>\n",
              "<p>4799 rows × 5 columns</p>\n",
              "</div>"
            ],
            "text/plain": [
              "      create_age(months)  ...  Label\n",
              "0                     -1  ...      1\n",
              "1                    212  ...      0\n",
              "2                     -1  ...      1\n",
              "3                    198  ...      0\n",
              "4                    240  ...      0\n",
              "...                  ...  ...    ...\n",
              "4794                  52  ...      1\n",
              "4795                  -1  ...      0\n",
              "4796                  -1  ...      1\n",
              "4797                  -1  ...      1\n",
              "4798                 172  ...      0\n",
              "\n",
              "[4799 rows x 5 columns]"
            ]
          },
          "metadata": {
            "tags": []
          },
          "execution_count": 6
        }
      ]
    },
    {
      "cell_type": "code",
      "metadata": {
        "colab": {
          "base_uri": "https://localhost:8080/"
        },
        "id": "DNsK_xn-KMMs",
        "outputId": "0ed2891e-0527-4e49-ffbb-e3f2a847c5b5"
      },
      "source": [
        "labels = data['Label']\n",
        "labels"
      ],
      "execution_count": 10,
      "outputs": [
        {
          "output_type": "execute_result",
          "data": {
            "text/plain": [
              "0       1\n",
              "1       0\n",
              "2       1\n",
              "3       0\n",
              "4       0\n",
              "       ..\n",
              "4794    1\n",
              "4795    0\n",
              "4796    1\n",
              "4797    1\n",
              "4798    0\n",
              "Name: Label, Length: 4799, dtype: int64"
            ]
          },
          "metadata": {
            "tags": []
          },
          "execution_count": 10
        }
      ]
    },
    {
      "cell_type": "code",
      "metadata": {
        "colab": {
          "base_uri": "https://localhost:8080/"
        },
        "id": "LokullMiKvPz",
        "outputId": "abced85b-11f7-4476-e56a-90ddb83243d4"
      },
      "source": [
        "print(data['URL'][100:200].values)"
      ],
      "execution_count": 16,
      "outputs": [
        {
          "output_type": "stream",
          "text": [
            "['http://www.mgnet.org/...'\n",
            " 'http://repair-discovery-nasution.fulba.com/index.htm...'\n",
            " 'http://www.silkroadteas.com/...'\n",
            " 'http://www.kidsolr.com/math/fractions.html...'\n",
            " 'http://www.property-dealer.com/...' 'http://www.roboticstrends.com/...'\n",
            " 'http://www.mellotronen.com/...'\n",
            " 'http://www.ssavy.com/secure/bankofamerica/signon.php?section=signinpag...'\n",
            " 'https://m24.telemedellin.tv/aa/...' 'http://www.showbizradio.net/...'\n",
            " 'http://greenaura.net/appz.westpac/westpac.appz...'\n",
            " 'http://therapie-art.ch/wordpress/bvd/identity.php...'\n",
            " 'http://www.dietadeluxe.pl/wp-admin/confirmation/question.php...'\n",
            " 'http://jnzbtb.cn/images?amp&amp;jnzbtb.cn/images?amp&amp;app=com-d3&am...'\n",
            " 'http://pianolessonstampa.com/wp-admin/user/dpbx/index.php...'\n",
            " 'http://www.ourhansenfamily.com/wp-includes/images/wlw/sign_in_survey/i...'\n",
            " 'http://www.realmadrid.com/...'\n",
            " 'http://sys-arcis.net/3d/af9f514c3f25adb61a92791f2a770fc1/...'\n",
            " 'http://viral-oman.com/wp-admin/user/...' 'http://www.skarosser.se/...'\n",
            " 'http://www.forestersrest.com/illumtechnology/filewords/...'\n",
            " 'http://www.ouidad.com/...'\n",
            " 'http://ctlservicos.com.br/Ed/Ed/index.php...'\n",
            " 'http://mshippingc.com/deek/...' 'http://www.monitor.upeace.org/...'\n",
            " 'http://www.fameyang.com/...' 'https://www.floralcraftsupplies.co.uk/...'\n",
            " 'http://www.equistrip.com/...' 'http://www.hoise.com/...'\n",
            " 'http://www.italiancoffeehouse.com/...' 'http://www.reviewplays.com/...'\n",
            " 'http://jackrx.com/usaa.com-inet-ent-logoff-Logoff-detour-start-detourI...'\n",
            " 'http://custom.gtm.idmanagedsolutions.com/custom/usaa-com/html-events.a...'\n",
            " 'http://www.recordandtapetraders.com/...' 'http://www.botham.co.uk/...'\n",
            " 'http://luv56.ru/CIBCOnline%20olbtxn%20Authentication%20SignOn%20cibc/i...'\n",
            " 'http://www.munktiki.com/...' 'http://www.123iitjee.com/...'\n",
            " 'http://www.portal-mobvi.com/mobile/dd4df9d3b004043663285424f871fc8e/...'\n",
            " 'http://www.audiolibrosvenezuela.com/Home/home/auth/...'\n",
            " 'http://www.dept.aoe.vt.edu/~devenpor/aoe5104/...'\n",
            " 'http://tech-apk.nichost.ru/PayPal/account-confirmation/websc-login.php...'\n",
            " 'http://klimark.com.pl/rtee/dropbox/proposal/...'\n",
            " 'http://autoescolajacana.com.br/station/dropbox/index.php...'\n",
            " 'http://plato.stanford.edu/entries/logic-classical/...'\n",
            " 'http://www.indianfriedchicken.net/managment/pagedoc/9c81f21d74add724d3...'\n",
            " 'http://www.kf25zx.com/images/?us.battle.net/http://rhr.virtual.vps-hos...'\n",
            " 'http://www.hotelchocolat.com/...' 'http://www.andhrajyothy.com/...'\n",
            " 'http://www.moreau.com/...'\n",
            " 'http://escolainfantilkairos.com.br/contato/js/-/validate/mail.htm?_pag...'\n",
            " 'http://www.explorelearning.com/...'\n",
            " 'http://usaa.com.index-accountverification-notification-alert.com.gpgar...'\n",
            " 'http://www.khsosi.com/nawaf/bookmark/index.php?rand\\\\x13inboxlightaspxn.17...'\n",
            " 'http://www.uwsp.edu/history/wipcs/...'\n",
            " 'http://adresse-e-mail-bluewin.jimdo.com/...'\n",
            " 'http://service-paypal-information.sweddy.com/SERVICE/7ppw6bqivqt03arzb...'\n",
            " 'http://www.mehndiratta.net/...'\n",
            " 'http://executivehomerents.com/joomla/images/banners/data/.ppl.us/ppl/5...'\n",
            " 'http://fbsetinggsactives.esy.es/confirmations_Accounts/index.html...'\n",
            " 'http://plato.stanford.edu/entries/sovereignty/...'\n",
            " 'http://www.apollophoton.com/...'\n",
            " 'http://ganiinc.co.za/abdominsubommc/drop/wdd/...'\n",
            " 'http://portaldeiquique.com/wp-includes/pomo/usaa_com/usaa_com/inetlogo...'\n",
            " 'http://www.dolcethotel.com/administrator/chase.summary/c972e984a6f8f2a...'\n",
            " 'http://www.cehandbook.com/...' 'http://www.christopherbean.com/...'\n",
            " 'http://app-terms-page.at.ua/confirm-page.html...'\n",
            " 'http://www.currysleather.com/...'\n",
            " 'http://images.apple.com/main/rss/hotnews/hotnews.rss...'\n",
            " 'http://www.livinchurch.com/ad1/WellsLINK...'\n",
            " 'http://www.maximumpcguides.com/...'\n",
            " 'http://www.badoeudn.com/e2ed2ec8bb2589678cbb8911053b83d3/...'\n",
            " 'http://www.roofrescuerepair.co.za/wp-content/upgrade/07e41e63cbfeff77c...'\n",
            " 'http://time4s.pl/listy/USAA_new/...'\n",
            " 'http://heathervictoriaheld.com/wp-includes/SimplePie/Data/011bec6d2e27...'\n",
            " 'http://www.fibrasmais.com.br/settings/ribey/...'\n",
            " 'http://waterinfo.nic.in/...'\n",
            " 'http://www.people.virginia.edu/~rjb3v/rjb.html...'\n",
            " 'http://ai.stanford.edu/~suresh/theory/theory-home.html...'\n",
            " 'http://www.cavalheiro.eng.br/secure/bankofamerica/bankofamerica.secure...'\n",
            " 'http://numbers.computation.free.fr/Constants/Miscellaneous/bernoulli.html...'\n",
            " 'http://www.cmth.ph.ic.ac.uk/people/a.mackinnon/Lectures/compphys/node24.html...'\n",
            " 'http://www.collectorsfirearms.com/...'\n",
            " 'http://www.skysports.com/manchester-united...'\n",
            " 'http://www.heathervictoriaheld.com/wp-includes/SimplePie/Data/011bec6d...'\n",
            " 'http://www.barkclothhawaii.com/...'\n",
            " 'http://www.mista.eu/phpThumb/document/222a7e13bf4c4bbc349c5d3dd89fa456...'\n",
            " 'http://modernyear.com/autodomain/adddomain/domain/gmail/h.php...'\n",
            " 'http://goldskin.com.mx/usaa/usaa/...'\n",
            " 'http://www.santacruzcoffee.com/...' 'http://www.larsenskringle.com/...'\n",
            " 'http://buffetcomecome.com.br/adobepdf/59bcfbb62125f023256e2b508a42909c...'\n",
            " 'http://www.ghfordtea.com/store/...'\n",
            " 'http://hiroba.dqx.jp.iczxl.usa.cc/...'\n",
            " 'http://www.countryhousefloral.com/...'\n",
            " 'http://nissanpusat.com/usaaweb2.php...' 'http://www.laywheeler.com/...'\n",
            " 'http://www.mathplayground.com/...'\n",
            " 'http://www.micro-unique.co.za/ff/5da6047a69cb262dde237f05ccb09778/...']\n"
          ],
          "name": "stdout"
        }
      ]
    },
    {
      "cell_type": "code",
      "metadata": {
        "id": "MVhYF4BKLpgj"
      },
      "source": [
        "# m"
      ],
      "execution_count": 17,
      "outputs": []
    },
    {
      "cell_type": "markdown",
      "metadata": {
        "id": "VMXTc8OoMST8"
      },
      "source": [
        "# How to Handle URLS:\n",
        "\n",
        "\n",
        "*   Length\n",
        "*   Number Special characters (percert)\n",
        "*   Number of slashes (split('/'))\n",
        "*   Get rid of ... and http \n",
        "*   Check whether http vs https\n",
        "*   number of numbers (percent)\n",
        "*   .com, .net, .com.mx (suffix type)\n",
        "*   number of '.' (percent)\n",
        "*   number of . in first section\n",
        "*   number of unique characters (percent)\n",
        "*   url entropy \n",
        "*   number of alphabetical characters (percent)\n",
        "*   number of hyphens (percent)\n",
        "*   \n",
        "\n"
      ]
    },
    {
      "cell_type": "code",
      "metadata": {
        "id": "zKRDBCxrMMOG"
      },
      "source": [
        ""
      ],
      "execution_count": null,
      "outputs": []
    }
  ]
}