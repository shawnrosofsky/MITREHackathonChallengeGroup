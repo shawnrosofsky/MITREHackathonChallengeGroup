{
  "nbformat": 4,
  "nbformat_minor": 0,
  "metadata": {
    "colab": {
      "name": "Group2_Summer_of_AI_Cyber_Challenge.ipynb",
      "provenance": [],
      "collapsed_sections": [],
      "include_colab_link": true
    },
    "interpreter": {
      "hash": "528e99d0f460112350f646a0469b322e31e84eddc0f6e9f79ea9f23b2d45d564"
    },
    "kernelspec": {
      "display_name": "Python 3.9.5 64-bit",
      "name": "python3"
    },
    "language_info": {
      "codemirror_mode": {
        "name": "ipython",
        "version": 3
      },
      "file_extension": ".py",
      "mimetype": "text/x-python",
      "name": "python",
      "nbconvert_exporter": "python",
      "pygments_lexer": "ipython3",
      "version": "3.9.5"
    }
  },
  "cells": [
    {
      "cell_type": "markdown",
      "metadata": {
        "id": "view-in-github",
        "colab_type": "text"
      },
      "source": [
        "<a href=\"https://colab.research.google.com/github/shawnrosofsky/MITREHackathonChallengeGroup/blob/main/test_model_Shawn.ipynb\" target=\"_parent\"><img src=\"https://colab.research.google.com/assets/colab-badge.svg\" alt=\"Open In Colab\"/></a>"
      ]
    },
    {
      "cell_type": "markdown",
      "metadata": {
        "id": "_q70GoXvIodM"
      },
      "source": [
        "# Phishing URL Detection\n",
        "\n",
        "\n",
        "From Wikipedia, https://en.wikipedia.org/wiki/Phishing\n",
        "\n",
        "> Phishing is the fraudulent attempt to obtain sensitive information such as usernames, passwords and credit card details, often for malicious reasons, by disguising as a trustworthy entity in an electronic communication. The word is a neologism created as a homophone of fishing due to the similarity of using a bait in an attempt to catch a victim. The annual worldwide impact of phishing could be as high as US$5 billion.\n",
        ">\n",
        "> Phishing is typically carried out by email spoofing or instant messaging, and it often directs users to enter personal information at a fake website, the look and feel of which are identical to the legitimate site, the only difference being the URL of the website in concern. Communications purporting to be from social web sites, auction sites, banks, online payment processors or IT administrators are often used to lure victims. Phishing emails may contain links to websites that distribute malware.\n",
        ">\n",
        "> Phishing is an example of social engineering techniques used to deceive users, and it exploits weaknesses in current web security. Attempts to deal with the growing number of reported phishing incidents include legislation, user training, public awareness, and technical security measures."
      ]
    },
    {
      "cell_type": "markdown",
      "metadata": {
        "id": "CIrGh325Ioh4"
      },
      "source": [
        "Here's an example of a real phishing email sent in 2011 by attackers looking to get login credentials for Facebook users:\n",
        "\n",
        "<pre>\n",
        "LAST WARNING : Your account is reported to have violated the policies that are considered annoying or insulting Facebook users.\n",
        "\n",
        "Until we system will disable your account within 24 hours if you do not do the reconfirmation.\n",
        "\n",
        "Please confirm your account below:\n",
        "\n",
        "[ Link Removed ]\n",
        "\n",
        "Thanks.\n",
        "The Facebook Team\n",
        "Copyright facebook © 2011 Inc. All rights reserved.\n",
        "</pre>\n",
        "\n",
        "A victim clicking on the Phishing link would be taken to a site that looked like a pretty good copy of the Facebook login screen.\n",
        "\n",
        "<img src=\"https://github.com/shawnrosofsky/MITREHackathonChallengeGroup/blob/main/images/Not_Facebook.png?raw=1\">"
      ]
    },
    {
      "cell_type": "markdown",
      "metadata": {
        "id": "WTRudWeAIoh7"
      },
      "source": [
        "Here are some examples of the links used in emails sent by the attackers running this phishing campaign:\n",
        "\n",
        "**Note**: These links may be dangerous to your computer. Our practice will be to \"neuter\" links by wrapping certain characters with square brackets so that you cannot click on these links, or accidentally copy/paste them into your browser.\n",
        "\n",
        "**CAUTION: DO NOT CLICK ON OR VISIT THESE LINKS!!**\n",
        "<pre>\n",
        "http[:]//team-welcome[.]at[.]ua/facebook-support[.]html\n",
        "http[:]//reportedpages[.]at[.]ua/facebook-support-account[.]html\n",
        "http[:]//www[.]facebooks[.]cloud/PayPlls[.]CEanada[.]tNZnZZlR3ZdyZZ-5RkZZDRTZZBy\n",
        "http[:]//www[.]greenaura[.]net/appz[.]westpac/westpac[.]appz/login[.]php\n",
        "http[:]//www[.]irastrum[.]com/wp-admin/mail[.]yahoo[.]com/\n",
        "http[:]//appleid[.]apple[.]com-subscriptions[.]manager508158125[.]kevinfoley[.]com\n",
        "</pre>\n",
        "**CAUTION: DO NOT CLICK ON OR VISIT THESE LINKS!!**\n",
        "\n",
        "\n",
        "Something smells a little phishy about these links. Given a close look by a human, you'd probably be able to decide pretty quickly if the link was really sent by Facebook or not. But billions of people get hundreds or thousands of emails each every day! How can defenders keep up with the onslaught by the phishers?\n",
        "\n",
        "## The Problem\n",
        "\n",
        "We want to use methods from Machine Learning to build a computer program that will automatically flag links it thinks are phishing attempts. We can do this by studying the problem, looking at data, and learning a decision rule.\n",
        "\n",
        "The dataset we will be using is named \"Phishing_Mitre_Dataset_Summer_of_AI.csv\". \n",
        "\n",
        "#### Analyze the data, build features, or use the existing features in the data to build a model, and report your findings. We will use the F1 score to evaluate the final models using a test set that we have set aside. "
      ]
    },
    {
      "cell_type": "markdown",
      "metadata": {
        "id": "5CdrVoR0IoiE"
      },
      "source": [
        "## Explore Some Data\n",
        "\n",
        "Let's take a look at the provided features on our set of URLs. \n",
        "\n",
        "* Create Age (in Months): The age of the domain. If the value is -1, that information is not available or the domain has been deleted. \n",
        "* Expiry Age (in Months): The amount of months until the domain expires. If the value is negative, that information is not available or the domain has been deleted.\n",
        "* Update Age (in Days): The last time the domain was updated. If the value is -1, that information is not available or the domain was deleted.\n",
        "* URL: The URL of the website. Three periods have been added to the end of each URL to prevent the URL from being clicked for security purposes. \n",
        "* Label: A label to determine whether a website is a phishing link or not. 0 denotes a website that is not a phishing link, 1 denotes a website is a phishing link. "
      ]
    },
    {
      "cell_type": "markdown",
      "metadata": {
        "id": "VMXTc8OoMST8"
      },
      "source": [
        "# How to Handle URLS:\n",
        "\n",
        "\n",
        "*   Length\n",
        "*   Number Special characters (percert)\n",
        "*   Number of slashes (split('/'))\n",
        "*   Get rid of ... and http \n",
        "*   Check whether http vs https\n",
        "*   number of numbers (percent)\n",
        "*   .com, .net, .com.mx (suffix type)\n",
        "*   number of '.' (percent)\n",
        "*   number of . in first section\n",
        "*   number of unique characters (percent)\n",
        "*   url entropy \n",
        "*   number of alphabetical characters (percent)\n",
        "*   number of hyphens (percent)\n",
        "*   \n",
        "\n"
      ]
    },
    {
      "cell_type": "code",
      "metadata": {
        "id": "OA7pZxYdIyVP"
      },
      "source": [
        "import pandas as pd\n",
        "import numpy as np\n",
        "import torch\n",
        "import matplotlib.pyplot as plt\n",
        "import tensorflow as tf\n",
        "import sklearn, skimage\n",
        "from tensorflow import feature_column\n",
        "from tensorflow.keras import layers\n",
        "# import tldextract\n",
        "import os\n",
        "from sklearn.model_selection import train_test_split"
      ],
      "execution_count": 2,
      "outputs": []
    },
    {
      "cell_type": "code",
      "metadata": {
        "id": "RsNOCiqfFOUy"
      },
      "source": [
        "\n"
      ],
      "execution_count": 2,
      "outputs": []
    },
    {
      "cell_type": "code",
      "metadata": {
        "id": "6j4HZy8TJJ2U"
      },
      "source": [
        "# file = 'Training Data/Phishing_Mitre_Dataset_Summer_of_AI.csv'\n",
        "file = 'Phishing_Mitre_Dataset_Summer_of_AI.csv'"
      ],
      "execution_count": 8,
      "outputs": []
    },
    {
      "cell_type": "code",
      "metadata": {
        "id": "p09SX6U7JSAi"
      },
      "source": [
        "data = pd.read_csv(file)"
      ],
      "execution_count": 9,
      "outputs": []
    },
    {
      "cell_type": "code",
      "metadata": {
        "colab": {
          "base_uri": "https://localhost:8080/",
          "height": 420
        },
        "id": "tulPhcTmKLsL",
        "outputId": "bf766d3e-a983-4405-b079-0e174a939662"
      },
      "source": [
        "data"
      ],
      "execution_count": 10,
      "outputs": [
        {
          "output_type": "execute_result",
          "data": {
            "text/html": [
              "<div>\n",
              "<style scoped>\n",
              "    .dataframe tbody tr th:only-of-type {\n",
              "        vertical-align: middle;\n",
              "    }\n",
              "\n",
              "    .dataframe tbody tr th {\n",
              "        vertical-align: top;\n",
              "    }\n",
              "\n",
              "    .dataframe thead th {\n",
              "        text-align: right;\n",
              "    }\n",
              "</style>\n",
              "<table border=\"1\" class=\"dataframe\">\n",
              "  <thead>\n",
              "    <tr style=\"text-align: right;\">\n",
              "      <th></th>\n",
              "      <th>create_age(months)</th>\n",
              "      <th>expiry_age(months)</th>\n",
              "      <th>update_age(days)</th>\n",
              "      <th>URL</th>\n",
              "      <th>Label</th>\n",
              "    </tr>\n",
              "  </thead>\n",
              "  <tbody>\n",
              "    <tr>\n",
              "      <th>0</th>\n",
              "      <td>-1</td>\n",
              "      <td>-1</td>\n",
              "      <td>-1</td>\n",
              "      <td>http://account-google-com.ngate.my/c44cca40176...</td>\n",
              "      <td>1</td>\n",
              "    </tr>\n",
              "    <tr>\n",
              "      <th>1</th>\n",
              "      <td>212</td>\n",
              "      <td>16</td>\n",
              "      <td>663</td>\n",
              "      <td>http://www.coffeespecialties.com/...</td>\n",
              "      <td>0</td>\n",
              "    </tr>\n",
              "    <tr>\n",
              "      <th>2</th>\n",
              "      <td>-1</td>\n",
              "      <td>-1</td>\n",
              "      <td>-1</td>\n",
              "      <td>http://black.pk/wp-content/2013/04/bp.postale/...</td>\n",
              "      <td>1</td>\n",
              "    </tr>\n",
              "    <tr>\n",
              "      <th>3</th>\n",
              "      <td>198</td>\n",
              "      <td>6</td>\n",
              "      <td>186</td>\n",
              "      <td>http://atomicsoda.com/manutd...</td>\n",
              "      <td>0</td>\n",
              "    </tr>\n",
              "    <tr>\n",
              "      <th>4</th>\n",
              "      <td>240</td>\n",
              "      <td>24</td>\n",
              "      <td>1684</td>\n",
              "      <td>http://bostoncoffeecake.com/...</td>\n",
              "      <td>0</td>\n",
              "    </tr>\n",
              "    <tr>\n",
              "      <th>...</th>\n",
              "      <td>...</td>\n",
              "      <td>...</td>\n",
              "      <td>...</td>\n",
              "      <td>...</td>\n",
              "      <td>...</td>\n",
              "    </tr>\n",
              "    <tr>\n",
              "      <th>4794</th>\n",
              "      <td>52</td>\n",
              "      <td>8</td>\n",
              "      <td>118</td>\n",
              "      <td>http://aridfoods.com/V4/MGen/F97a8a294cf7c5e90...</td>\n",
              "      <td>1</td>\n",
              "    </tr>\n",
              "    <tr>\n",
              "      <th>4795</th>\n",
              "      <td>-1</td>\n",
              "      <td>-1</td>\n",
              "      <td>-1</td>\n",
              "      <td>http://www.mazda.co.jp/...</td>\n",
              "      <td>0</td>\n",
              "    </tr>\n",
              "    <tr>\n",
              "      <th>4796</th>\n",
              "      <td>-1</td>\n",
              "      <td>-1</td>\n",
              "      <td>-1</td>\n",
              "      <td>http://www.fotografaemsaopaulo.com.br/wp-admin...</td>\n",
              "      <td>1</td>\n",
              "    </tr>\n",
              "    <tr>\n",
              "      <th>4797</th>\n",
              "      <td>-1</td>\n",
              "      <td>-1</td>\n",
              "      <td>-1</td>\n",
              "      <td>http://agenda.wehrensarl.ch/libraries/joomla/h...</td>\n",
              "      <td>1</td>\n",
              "    </tr>\n",
              "    <tr>\n",
              "      <th>4798</th>\n",
              "      <td>172</td>\n",
              "      <td>68</td>\n",
              "      <td>745</td>\n",
              "      <td>http://www.waterfrontrecords.com/...</td>\n",
              "      <td>0</td>\n",
              "    </tr>\n",
              "  </tbody>\n",
              "</table>\n",
              "<p>4799 rows × 5 columns</p>\n",
              "</div>"
            ],
            "text/plain": [
              "      create_age(months)  ...  Label\n",
              "0                     -1  ...      1\n",
              "1                    212  ...      0\n",
              "2                     -1  ...      1\n",
              "3                    198  ...      0\n",
              "4                    240  ...      0\n",
              "...                  ...  ...    ...\n",
              "4794                  52  ...      1\n",
              "4795                  -1  ...      0\n",
              "4796                  -1  ...      1\n",
              "4797                  -1  ...      1\n",
              "4798                 172  ...      0\n",
              "\n",
              "[4799 rows x 5 columns]"
            ]
          },
          "metadata": {
            "tags": []
          },
          "execution_count": 10
        }
      ]
    },
    {
      "cell_type": "code",
      "metadata": {
        "colab": {
          "base_uri": "https://localhost:8080/"
        },
        "id": "DNsK_xn-KMMs",
        "outputId": "90e84dbd-2344-4622-be21-7f176a59e0bc"
      },
      "source": [
        "labels = data['Label']\n",
        "labels"
      ],
      "execution_count": 11,
      "outputs": [
        {
          "output_type": "execute_result",
          "data": {
            "text/plain": [
              "0       1\n",
              "1       0\n",
              "2       1\n",
              "3       0\n",
              "4       0\n",
              "       ..\n",
              "4794    1\n",
              "4795    0\n",
              "4796    1\n",
              "4797    1\n",
              "4798    0\n",
              "Name: Label, Length: 4799, dtype: int64"
            ]
          },
          "metadata": {
            "tags": []
          },
          "execution_count": 11
        }
      ]
    },
    {
      "cell_type": "code",
      "metadata": {
        "id": "zKRDBCxrMMOG"
      },
      "source": [
        "def df_to_dataset(dataframe, labels, shuffle=True, batch_size=32):\n",
        "  dataframe = dataframe.copy()\n",
        "  labels = dataframe.pop('Label')\n",
        "  ds = tf.data.Dataset.from_tensor_slices((dict(dataframe), labels))\n",
        "  if shuffle:\n",
        "    ds = ds.shuffle(buffer_size=len(dataframe))\n",
        "  ds = ds.batch(batch_size)\n",
        "  return ds\n",
        "\n"
      ],
      "execution_count": 12,
      "outputs": []
    },
    {
      "cell_type": "code",
      "metadata": {
        "colab": {
          "base_uri": "https://localhost:8080/",
          "height": 420
        },
        "id": "bBQcw6neFOU0",
        "outputId": "1248f325-15bf-4fe0-8520-61ace183d579"
      },
      "source": [
        "dat = data.drop(columns='URL')\n",
        "dat['Length'] = data['URL'].str.len()\n",
        "train, test = train_test_split(dat, test_size=0.2)\n",
        "train, val = train_test_split(train, test_size=0.2)\n",
        "train"
      ],
      "execution_count": 13,
      "outputs": [
        {
          "output_type": "execute_result",
          "data": {
            "text/html": [
              "<div>\n",
              "<style scoped>\n",
              "    .dataframe tbody tr th:only-of-type {\n",
              "        vertical-align: middle;\n",
              "    }\n",
              "\n",
              "    .dataframe tbody tr th {\n",
              "        vertical-align: top;\n",
              "    }\n",
              "\n",
              "    .dataframe thead th {\n",
              "        text-align: right;\n",
              "    }\n",
              "</style>\n",
              "<table border=\"1\" class=\"dataframe\">\n",
              "  <thead>\n",
              "    <tr style=\"text-align: right;\">\n",
              "      <th></th>\n",
              "      <th>create_age(months)</th>\n",
              "      <th>expiry_age(months)</th>\n",
              "      <th>update_age(days)</th>\n",
              "      <th>Label</th>\n",
              "      <th>Length</th>\n",
              "    </tr>\n",
              "  </thead>\n",
              "  <tbody>\n",
              "    <tr>\n",
              "      <th>2413</th>\n",
              "      <td>-1</td>\n",
              "      <td>-1</td>\n",
              "      <td>-1</td>\n",
              "      <td>1</td>\n",
              "      <td>36</td>\n",
              "    </tr>\n",
              "    <tr>\n",
              "      <th>2720</th>\n",
              "      <td>-1</td>\n",
              "      <td>-1</td>\n",
              "      <td>-1</td>\n",
              "      <td>0</td>\n",
              "      <td>30</td>\n",
              "    </tr>\n",
              "    <tr>\n",
              "      <th>3056</th>\n",
              "      <td>185</td>\n",
              "      <td>7</td>\n",
              "      <td>174</td>\n",
              "      <td>0</td>\n",
              "      <td>43</td>\n",
              "    </tr>\n",
              "    <tr>\n",
              "      <th>2274</th>\n",
              "      <td>94</td>\n",
              "      <td>13</td>\n",
              "      <td>310</td>\n",
              "      <td>1</td>\n",
              "      <td>46</td>\n",
              "    </tr>\n",
              "    <tr>\n",
              "      <th>1200</th>\n",
              "      <td>-1</td>\n",
              "      <td>-1</td>\n",
              "      <td>-1</td>\n",
              "      <td>1</td>\n",
              "      <td>39</td>\n",
              "    </tr>\n",
              "    <tr>\n",
              "      <th>...</th>\n",
              "      <td>...</td>\n",
              "      <td>...</td>\n",
              "      <td>...</td>\n",
              "      <td>...</td>\n",
              "      <td>...</td>\n",
              "    </tr>\n",
              "    <tr>\n",
              "      <th>3547</th>\n",
              "      <td>95</td>\n",
              "      <td>1</td>\n",
              "      <td>331</td>\n",
              "      <td>1</td>\n",
              "      <td>57</td>\n",
              "    </tr>\n",
              "    <tr>\n",
              "      <th>4035</th>\n",
              "      <td>15</td>\n",
              "      <td>9</td>\n",
              "      <td>78</td>\n",
              "      <td>1</td>\n",
              "      <td>73</td>\n",
              "    </tr>\n",
              "    <tr>\n",
              "      <th>4227</th>\n",
              "      <td>72</td>\n",
              "      <td>60</td>\n",
              "      <td>1005</td>\n",
              "      <td>1</td>\n",
              "      <td>56</td>\n",
              "    </tr>\n",
              "    <tr>\n",
              "      <th>4089</th>\n",
              "      <td>177</td>\n",
              "      <td>27</td>\n",
              "      <td>2503</td>\n",
              "      <td>0</td>\n",
              "      <td>50</td>\n",
              "    </tr>\n",
              "    <tr>\n",
              "      <th>3304</th>\n",
              "      <td>214</td>\n",
              "      <td>14</td>\n",
              "      <td>820</td>\n",
              "      <td>0</td>\n",
              "      <td>27</td>\n",
              "    </tr>\n",
              "  </tbody>\n",
              "</table>\n",
              "<p>3071 rows × 5 columns</p>\n",
              "</div>"
            ],
            "text/plain": [
              "      create_age(months)  expiry_age(months)  update_age(days)  Label  Length\n",
              "2413                  -1                  -1                -1      1      36\n",
              "2720                  -1                  -1                -1      0      30\n",
              "3056                 185                   7               174      0      43\n",
              "2274                  94                  13               310      1      46\n",
              "1200                  -1                  -1                -1      1      39\n",
              "...                  ...                 ...               ...    ...     ...\n",
              "3547                  95                   1               331      1      57\n",
              "4035                  15                   9                78      1      73\n",
              "4227                  72                  60              1005      1      56\n",
              "4089                 177                  27              2503      0      50\n",
              "3304                 214                  14               820      0      27\n",
              "\n",
              "[3071 rows x 5 columns]"
            ]
          },
          "metadata": {
            "tags": []
          },
          "execution_count": 13
        }
      ]
    },
    {
      "cell_type": "code",
      "metadata": {
        "id": "emnjpiA-FOU2"
      },
      "source": [
        "\n",
        "batch_size = 12\n",
        "train_ds = df_to_dataset(train, labels, batch_size=batch_size)\n",
        "val_ds = df_to_dataset(val, labels, shuffle=False, batch_size=batch_size)\n",
        "test_ds = df_to_dataset(test, labels, shuffle=False, batch_size=batch_size)\n",
        "\n"
      ],
      "execution_count": 14,
      "outputs": []
    },
    {
      "cell_type": "code",
      "metadata": {
        "id": "i_QZHgVTFOU3"
      },
      "source": [
        "def create_model(data,target=\"Label\"):\n",
        "    df = data.copy()\n",
        "    labels = df.pop(target)\n",
        "    inputs = {key: tf.keras.layers.Input(shape=(), name=key) for key in df.keys()}\n",
        "    x = tf.stack(list(inputs.values()), axis=-1)\n",
        "    x = layers.Dense(128, activation='relu', kernel_regularizer=tf.keras.regularizers.L2(l2=0.01))(x)\n",
        "    x = layers.Dense(128, activation='relu', kernel_regularizer=tf.keras.regularizers.L2(l2=0.01))(x)\n",
        "    x = layers.Dropout(.1)(x)\n",
        "    outputs = layers.Dense(1, name=target)(x)\n",
        "    model = tf.keras.Model(inputs=inputs, outputs=outputs)\n",
        "    return model\n",
        "\n",
        "\n",
        "model = create_model(dat)\n",
        "model.compile(optimizer='adam',\n",
        "              loss=tf.keras.losses.BinaryCrossentropy(from_logits=True),\n",
        "              metrics=['accuracy'])\n"
      ],
      "execution_count": 15,
      "outputs": []
    },
    {
      "cell_type": "code",
      "metadata": {
        "colab": {
          "base_uri": "https://localhost:8080/",
          "height": 435
        },
        "id": "n0TZtNQKFOU4",
        "outputId": "15c389b5-87c1-417b-9ea5-b4db8b99fe83"
      },
      "source": [
        "tf.keras.utils.plot_model(model, show_shapes=True)\n"
      ],
      "execution_count": 16,
      "outputs": [
        {
          "output_type": "execute_result",
          "data": {
            "image/png": "[encoded data removed]",
            "text/plain": [
              "<IPython.core.display.Image object>"
            ]
          },
          "metadata": {
            "tags": []
          },
          "execution_count": 16
        }
      ]
    },
    {
      "cell_type": "code",
      "metadata": {
        "id": "xDd8espgFOU6"
      },
      "source": [
        ""
      ],
      "execution_count": null,
      "outputs": []
    },
    {
      "cell_type": "code",
      "metadata": {
        "id": "v4OfepqUFOU7",
        "outputId": "da376771-65a0-4bd6-c68f-e9ba892432b8"
      },
      "source": [
        "\n",
        "history = model.fit(train_ds,\n",
        "                   validation_data=val_ds,\n",
        "                   epochs=50)\n",
        "    \n"
      ],
      "execution_count": null,
      "outputs": [
        {
          "output_type": "stream",
          "text": [
            "Epoch 1/50\n",
            "256/256 [==============================] - 3s 5ms/step - loss: 2.2600 - accuracy: 0.7929 - val_loss: 1.2855 - val_accuracy: 0.7148\n",
            "Epoch 2/50\n",
            "256/256 [==============================] - 1s 4ms/step - loss: 1.8055 - accuracy: 0.8190 - val_loss: 0.9253 - val_accuracy: 0.8659\n",
            "Epoch 3/50\n",
            "256/256 [==============================] - 1s 4ms/step - loss: 1.1203 - accuracy: 0.8522 - val_loss: 1.0691 - val_accuracy: 0.8060\n",
            "Epoch 4/50\n",
            "256/256 [==============================] - 1s 4ms/step - loss: 0.9466 - accuracy: 0.8505 - val_loss: 0.8193 - val_accuracy: 0.8477\n",
            "Epoch 5/50\n",
            "256/256 [==============================] - 1s 4ms/step - loss: 0.7879 - accuracy: 0.8678 - val_loss: 0.8209 - val_accuracy: 0.8568\n",
            "Epoch 6/50\n",
            "256/256 [==============================] - 1s 5ms/step - loss: 0.6965 - accuracy: 0.8707 - val_loss: 0.7657 - val_accuracy: 0.8503\n",
            "Epoch 7/50\n",
            "256/256 [==============================] - 1s 4ms/step - loss: 0.6845 - accuracy: 0.8701 - val_loss: 0.6532 - val_accuracy: 0.8698\n",
            "Epoch 8/50\n",
            "256/256 [==============================] - 1s 5ms/step - loss: 0.6242 - accuracy: 0.8720 - val_loss: 0.6480 - val_accuracy: 0.8516\n",
            "Epoch 9/50\n",
            "256/256 [==============================] - 1s 5ms/step - loss: 0.5745 - accuracy: 0.8668 - val_loss: 0.5489 - val_accuracy: 0.8854\n",
            "Epoch 10/50\n",
            "256/256 [==============================] - 1s 4ms/step - loss: 0.5756 - accuracy: 0.8678 - val_loss: 0.5520 - val_accuracy: 0.8750\n",
            "Epoch 11/50\n",
            "256/256 [==============================] - 1s 4ms/step - loss: 0.5240 - accuracy: 0.8704 - val_loss: 0.5191 - val_accuracy: 0.8737\n",
            "Epoch 12/50\n",
            "256/256 [==============================] - 1s 4ms/step - loss: 0.5148 - accuracy: 0.8711 - val_loss: 0.5071 - val_accuracy: 0.8802\n",
            "Epoch 13/50\n",
            "256/256 [==============================] - 1s 4ms/step - loss: 0.5008 - accuracy: 0.8678 - val_loss: 0.5099 - val_accuracy: 0.8685\n",
            "Epoch 14/50\n",
            "256/256 [==============================] - 1s 4ms/step - loss: 0.4914 - accuracy: 0.8668 - val_loss: 0.4945 - val_accuracy: 0.8672\n",
            "Epoch 15/50\n",
            "256/256 [==============================] - 1s 4ms/step - loss: 0.4820 - accuracy: 0.8707 - val_loss: 0.4783 - val_accuracy: 0.8815\n",
            "Epoch 16/50\n",
            "256/256 [==============================] - 1s 5ms/step - loss: 0.4557 - accuracy: 0.8636 - val_loss: 0.4573 - val_accuracy: 0.8620\n",
            "Epoch 17/50\n",
            "256/256 [==============================] - 1s 4ms/step - loss: 0.4469 - accuracy: 0.8701 - val_loss: 0.4622 - val_accuracy: 0.8451\n",
            "Epoch 18/50\n",
            "256/256 [==============================] - 1s 4ms/step - loss: 0.4491 - accuracy: 0.8711 - val_loss: 0.4271 - val_accuracy: 0.8828\n",
            "Epoch 19/50\n",
            "256/256 [==============================] - 1s 4ms/step - loss: 0.4460 - accuracy: 0.8714 - val_loss: 0.4213 - val_accuracy: 0.8672\n",
            "Epoch 20/50\n",
            "256/256 [==============================] - 1s 4ms/step - loss: 0.4114 - accuracy: 0.8743 - val_loss: 0.4068 - val_accuracy: 0.8854\n",
            "Epoch 21/50\n",
            "256/256 [==============================] - 1s 4ms/step - loss: 0.4235 - accuracy: 0.8632 - val_loss: 0.4332 - val_accuracy: 0.8490\n",
            "Epoch 22/50\n",
            "256/256 [==============================] - 1s 4ms/step - loss: 0.3954 - accuracy: 0.8691 - val_loss: 0.4016 - val_accuracy: 0.8880\n",
            "Epoch 23/50\n",
            "256/256 [==============================] - 2s 6ms/step - loss: 0.4000 - accuracy: 0.8675 - val_loss: 0.3924 - val_accuracy: 0.8828\n",
            "Epoch 24/50\n",
            "256/256 [==============================] - 1s 5ms/step - loss: 0.3866 - accuracy: 0.8701 - val_loss: 0.8435 - val_accuracy: 0.8398\n",
            "Epoch 25/50\n",
            "256/256 [==============================] - 1s 6ms/step - loss: 0.4488 - accuracy: 0.8567 - val_loss: 0.3831 - val_accuracy: 0.8594\n",
            "Epoch 26/50\n",
            "256/256 [==============================] - 2s 6ms/step - loss: 0.3718 - accuracy: 0.8802 - val_loss: 0.3808 - val_accuracy: 0.8646\n",
            "Epoch 27/50\n",
            "256/256 [==============================] - 1s 5ms/step - loss: 0.3764 - accuracy: 0.8704 - val_loss: 0.4074 - val_accuracy: 0.8659\n",
            "Epoch 28/50\n",
            "256/256 [==============================] - 2s 6ms/step - loss: 0.3678 - accuracy: 0.8714 - val_loss: 0.3912 - val_accuracy: 0.8646\n",
            "Epoch 29/50\n",
            "256/256 [==============================] - 2s 6ms/step - loss: 0.3475 - accuracy: 0.8808 - val_loss: 0.3446 - val_accuracy: 0.8815\n",
            "Epoch 30/50\n",
            "256/256 [==============================] - 1s 5ms/step - loss: 0.3564 - accuracy: 0.8668 - val_loss: 0.3505 - val_accuracy: 0.8867\n",
            "Epoch 31/50\n",
            "256/256 [==============================] - 1s 5ms/step - loss: 0.3603 - accuracy: 0.8720 - val_loss: 0.3908 - val_accuracy: 0.8464\n",
            "Epoch 32/50\n",
            "256/256 [==============================] - 1s 5ms/step - loss: 0.3677 - accuracy: 0.8711 - val_loss: 0.3598 - val_accuracy: 0.8542\n",
            "Epoch 33/50\n",
            "256/256 [==============================] - 1s 5ms/step - loss: 0.3693 - accuracy: 0.8704 - val_loss: 0.3846 - val_accuracy: 0.8451\n",
            "Epoch 34/50\n",
            "256/256 [==============================] - 1s 4ms/step - loss: 0.3267 - accuracy: 0.8782 - val_loss: 0.3485 - val_accuracy: 0.8880\n",
            "Epoch 35/50\n",
            "256/256 [==============================] - 1s 5ms/step - loss: 0.3322 - accuracy: 0.8795 - val_loss: 0.3699 - val_accuracy: 0.8411\n",
            "Epoch 36/50\n",
            "256/256 [==============================] - 1s 5ms/step - loss: 0.3340 - accuracy: 0.8697 - val_loss: 0.3494 - val_accuracy: 0.8633\n",
            "Epoch 37/50\n",
            "256/256 [==============================] - 1s 4ms/step - loss: 0.3316 - accuracy: 0.8737 - val_loss: 0.3454 - val_accuracy: 0.8477\n",
            "Epoch 38/50\n",
            "256/256 [==============================] - 1s 4ms/step - loss: 0.3287 - accuracy: 0.8727 - val_loss: 0.3311 - val_accuracy: 0.8854\n",
            "Epoch 39/50\n",
            "256/256 [==============================] - 1s 5ms/step - loss: 0.3187 - accuracy: 0.8772 - val_loss: 0.3254 - val_accuracy: 0.8828\n",
            "Epoch 40/50\n",
            "256/256 [==============================] - 2s 6ms/step - loss: 0.3182 - accuracy: 0.8782 - val_loss: 0.3430 - val_accuracy: 0.8490\n",
            "Epoch 41/50\n",
            "256/256 [==============================] - 2s 7ms/step - loss: 0.3214 - accuracy: 0.8743 - val_loss: 0.3411 - val_accuracy: 0.8542\n",
            "Epoch 42/50\n",
            "256/256 [==============================] - 1s 5ms/step - loss: 0.3141 - accuracy: 0.8746 - val_loss: 0.3364 - val_accuracy: 0.8607\n",
            "Epoch 43/50\n",
            "256/256 [==============================] - 1s 4ms/step - loss: 0.2994 - accuracy: 0.8798 - val_loss: 0.3186 - val_accuracy: 0.8646\n",
            "Epoch 44/50\n",
            "256/256 [==============================] - 1s 5ms/step - loss: 0.3060 - accuracy: 0.8769 - val_loss: 0.3705 - val_accuracy: 0.8516\n",
            "Epoch 45/50\n",
            "256/256 [==============================] - 1s 4ms/step - loss: 0.3042 - accuracy: 0.8782 - val_loss: 0.3242 - val_accuracy: 0.8542\n",
            "Epoch 46/50\n",
            "256/256 [==============================] - 2s 9ms/step - loss: 0.2975 - accuracy: 0.8798 - val_loss: 0.3256 - val_accuracy: 0.8672\n",
            "Epoch 47/50\n",
            "256/256 [==============================] - 6s 24ms/step - loss: 0.3068 - accuracy: 0.8746 - val_loss: 0.3133 - val_accuracy: 0.8672\n",
            "Epoch 48/50\n",
            "256/256 [==============================] - 2s 7ms/step - loss: 0.3038 - accuracy: 0.8818 - val_loss: 0.3070 - val_accuracy: 0.8711\n",
            "Epoch 49/50\n",
            "256/256 [==============================] - 1s 5ms/step - loss: 0.2994 - accuracy: 0.8795 - val_loss: 0.3192 - val_accuracy: 0.8828\n",
            "Epoch 50/50\n",
            "256/256 [==============================] - 2s 7ms/step - loss: 0.2925 - accuracy: 0.8834 - val_loss: 0.3220 - val_accuracy: 0.8646\n"
          ],
          "name": "stdout"
        }
      ]
    },
    {
      "cell_type": "code",
      "metadata": {
        "id": "VO1AvoObFOU9",
        "outputId": "c320da98-498a-4aa3-a754-59874fc7b8e0"
      },
      "source": [
        "%matplotlib inline\n",
        "epoch = history.epoch\n",
        "plt.figure()\n",
        "plt.plot(epoch, history.history['accuracy'], 'b-', label='training accuracy')\n",
        "plt.plot(epoch, history.history['val_accuracy'], 'r-', label='validation accuracy')\n",
        "plt.title('train history')\n",
        "plt.legend()"
      ],
      "execution_count": null,
      "outputs": [
        {
          "output_type": "execute_result",
          "data": {
            "text/plain": [
              "<matplotlib.legend.Legend at 0x24d24d8c9d0>"
            ]
          },
          "metadata": {
            "tags": []
          },
          "execution_count": 43
        },
        {
          "output_type": "display_data",
          "data": {
            "image/png": "[encoded data removed]",
            "text/plain": [
              "<Figure size 432x288 with 1 Axes>"
            ]
          },
          "metadata": {
            "tags": [],
            "needs_background": "light"
          }
        }
      ]
    },
    {
      "cell_type": "code",
      "metadata": {
        "id": "1q2b1xZlFOU-",
        "outputId": "e4a798bb-ad2d-4208-a3be-e76fa216020e"
      },
      "source": [
        "loss, accuracy = model.evaluate(test_ds)\n",
        "print(\"Accuracy\", accuracy)\n"
      ],
      "execution_count": null,
      "outputs": [
        {
          "output_type": "stream",
          "text": [
            "80/80 [==============================] - 0s 2ms/step - loss: 0.2980 - accuracy: 0.8771\n",
            "Accuracy 0.8770833611488342\n"
          ],
          "name": "stdout"
        }
      ]
    },
    {
      "cell_type": "code",
      "metadata": {
        "id": "cwu2ygWuFOVE"
      },
      "source": [
        ""
      ],
      "execution_count": null,
      "outputs": []
    }
  ]
}