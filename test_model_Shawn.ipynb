{
  "cells": [
    {
      "cell_type": "markdown",
      "metadata": {
        "colab_type": "text",
        "id": "view-in-github"
      },
      "source": [
        "<a href=\"https://colab.research.google.com/github/shawnrosofsky/MITREHackathonChallengeGroup/blob/main/Group2_Summer_of_AI_Cyber_Challenge.ipynb\" target=\"_parent\"><img src=\"https://colab.research.google.com/assets/colab-badge.svg\" alt=\"Open In Colab\"/></a>"
      ]
    },
    {
      "cell_type": "markdown",
      "metadata": {
        "id": "_q70GoXvIodM"
      },
      "source": [
        "# Phishing URL Detection\n",
        "\n",
        "\n",
        "From Wikipedia, https://en.wikipedia.org/wiki/Phishing\n",
        "\n",
        "> Phishing is the fraudulent attempt to obtain sensitive information such as usernames, passwords and credit card details, often for malicious reasons, by disguising as a trustworthy entity in an electronic communication. The word is a neologism created as a homophone of fishing due to the similarity of using a bait in an attempt to catch a victim. The annual worldwide impact of phishing could be as high as US$5 billion.\n",
        ">\n",
        "> Phishing is typically carried out by email spoofing or instant messaging, and it often directs users to enter personal information at a fake website, the look and feel of which are identical to the legitimate site, the only difference being the URL of the website in concern. Communications purporting to be from social web sites, auction sites, banks, online payment processors or IT administrators are often used to lure victims. Phishing emails may contain links to websites that distribute malware.\n",
        ">\n",
        "> Phishing is an example of social engineering techniques used to deceive users, and it exploits weaknesses in current web security. Attempts to deal with the growing number of reported phishing incidents include legislation, user training, public awareness, and technical security measures."
      ]
    },
    {
      "cell_type": "markdown",
      "metadata": {
        "id": "CIrGh325Ioh4"
      },
      "source": [
        "Here's an example of a real phishing email sent in 2011 by attackers looking to get login credentials for Facebook users:\n",
        "\n",
        "<pre>\n",
        "LAST WARNING : Your account is reported to have violated the policies that are considered annoying or insulting Facebook users.\n",
        "\n",
        "Until we system will disable your account within 24 hours if you do not do the reconfirmation.\n",
        "\n",
        "Please confirm your account below:\n",
        "\n",
        "[ Link Removed ]\n",
        "\n",
        "Thanks.\n",
        "The Facebook Team\n",
        "Copyright facebook © 2011 Inc. All rights reserved.\n",
        "</pre>\n",
        "\n",
        "A victim clicking on the Phishing link would be taken to a site that looked like a pretty good copy of the Facebook login screen.\n",
        "\n",
        "<img src=\"https://github.com/shawnrosofsky/MITREHackathonChallengeGroup/blob/main/images/Not_Facebook.png?raw=1\">"
      ]
    },
    {
      "cell_type": "markdown",
      "metadata": {
        "id": "WTRudWeAIoh7"
      },
      "source": [
        "Here are some examples of the links used in emails sent by the attackers running this phishing campaign:\n",
        "\n",
        "**Note**: These links may be dangerous to your computer. Our practice will be to \"neuter\" links by wrapping certain characters with square brackets so that you cannot click on these links, or accidentally copy/paste them into your browser.\n",
        "\n",
        "**CAUTION: DO NOT CLICK ON OR VISIT THESE LINKS!!**\n",
        "<pre>\n",
        "http[:]//team-welcome[.]at[.]ua/facebook-support[.]html\n",
        "http[:]//reportedpages[.]at[.]ua/facebook-support-account[.]html\n",
        "http[:]//www[.]facebooks[.]cloud/PayPlls[.]CEanada[.]tNZnZZlR3ZdyZZ-5RkZZDRTZZBy\n",
        "http[:]//www[.]greenaura[.]net/appz[.]westpac/westpac[.]appz/login[.]php\n",
        "http[:]//www[.]irastrum[.]com/wp-admin/mail[.]yahoo[.]com/\n",
        "http[:]//appleid[.]apple[.]com-subscriptions[.]manager508158125[.]kevinfoley[.]com\n",
        "</pre>\n",
        "**CAUTION: DO NOT CLICK ON OR VISIT THESE LINKS!!**\n",
        "\n",
        "\n",
        "Something smells a little phishy about these links. Given a close look by a human, you'd probably be able to decide pretty quickly if the link was really sent by Facebook or not. But billions of people get hundreds or thousands of emails each every day! How can defenders keep up with the onslaught by the phishers?\n",
        "\n",
        "## The Problem\n",
        "\n",
        "We want to use methods from Machine Learning to build a computer program that will automatically flag links it thinks are phishing attempts. We can do this by studying the problem, looking at data, and learning a decision rule.\n",
        "\n",
        "The dataset we will be using is named \"Phishing_Mitre_Dataset_Summer_of_AI.csv\". \n",
        "\n",
        "#### Analyze the data, build features, or use the existing features in the data to build a model, and report your findings. We will use the F1 score to evaluate the final models using a test set that we have set aside. "
      ]
    },
    {
      "cell_type": "markdown",
      "metadata": {
        "id": "5CdrVoR0IoiE"
      },
      "source": [
        "## Explore Some Data\n",
        "\n",
        "Let's take a look at the provided features on our set of URLs. \n",
        "\n",
        "* Create Age (in Months): The age of the domain. If the value is -1, that information is not available or the domain has been deleted. \n",
        "* Expiry Age (in Months): The amount of months until the domain expires. If the value is negative, that information is not available or the domain has been deleted.\n",
        "* Update Age (in Days): The last time the domain was updated. If the value is -1, that information is not available or the domain was deleted.\n",
        "* URL: The URL of the website. Three periods have been added to the end of each URL to prevent the URL from being clicked for security purposes. \n",
        "* Label: A label to determine whether a website is a phishing link or not. 0 denotes a website that is not a phishing link, 1 denotes a website is a phishing link. "
      ]
    },
    {
      "cell_type": "code",
      "execution_count": 1,
      "metadata": {
        "id": "OA7pZxYdIyVP"
      },
      "outputs": [],
      "source": [
        "import pandas as pd\r\n",
        "import numpy as np\r\n",
        "import torch\r\n",
        "import matplotlib.pyplot as plt\r\n",
        "import tensorflow as tf\r\n",
        "import sklearn, skimage"
      ]
    },
    {
      "cell_type": "code",
      "execution_count": 2,
      "metadata": {
        "id": "6j4HZy8TJJ2U"
      },
      "outputs": [],
      "source": [
        "file = 'Training Data/Phishing_Mitre_Dataset_Summer_of_AI.csv'"
      ]
    },
    {
      "cell_type": "code",
      "execution_count": 3,
      "metadata": {
        "id": "p09SX6U7JSAi"
      },
      "outputs": [],
      "source": [
        "data = pd.read_csv(file)"
      ]
    },
    {
      "cell_type": "code",
      "execution_count": 4,
      "metadata": {
        "colab": {
          "base_uri": "https://localhost:8080/",
          "height": 420
        },
        "id": "tulPhcTmKLsL",
        "outputId": "f4363905-641a-48f1-970a-a87843999085"
      },
      "outputs": [
        {
          "data": {
            "text/html": [
              "<div>\n",
              "<style scoped>\n",
              "    .dataframe tbody tr th:only-of-type {\n",
              "        vertical-align: middle;\n",
              "    }\n",
              "\n",
              "    .dataframe tbody tr th {\n",
              "        vertical-align: top;\n",
              "    }\n",
              "\n",
              "    .dataframe thead th {\n",
              "        text-align: right;\n",
              "    }\n",
              "</style>\n",
              "<table border=\"1\" class=\"dataframe\">\n",
              "  <thead>\n",
              "    <tr style=\"text-align: right;\">\n",
              "      <th></th>\n",
              "      <th>create_age(months)</th>\n",
              "      <th>expiry_age(months)</th>\n",
              "      <th>update_age(days)</th>\n",
              "      <th>URL</th>\n",
              "      <th>Label</th>\n",
              "    </tr>\n",
              "  </thead>\n",
              "  <tbody>\n",
              "    <tr>\n",
              "      <th>0</th>\n",
              "      <td>-1</td>\n",
              "      <td>-1</td>\n",
              "      <td>-1</td>\n",
              "      <td>http://account-google-com.ngate.my/c44cca40176...</td>\n",
              "      <td>1</td>\n",
              "    </tr>\n",
              "    <tr>\n",
              "      <th>1</th>\n",
              "      <td>212</td>\n",
              "      <td>16</td>\n",
              "      <td>663</td>\n",
              "      <td>http://www.coffeespecialties.com/...</td>\n",
              "      <td>0</td>\n",
              "    </tr>\n",
              "    <tr>\n",
              "      <th>2</th>\n",
              "      <td>-1</td>\n",
              "      <td>-1</td>\n",
              "      <td>-1</td>\n",
              "      <td>http://black.pk/wp-content/2013/04/bp.postale/...</td>\n",
              "      <td>1</td>\n",
              "    </tr>\n",
              "    <tr>\n",
              "      <th>3</th>\n",
              "      <td>198</td>\n",
              "      <td>6</td>\n",
              "      <td>186</td>\n",
              "      <td>http://atomicsoda.com/manutd...</td>\n",
              "      <td>0</td>\n",
              "    </tr>\n",
              "    <tr>\n",
              "      <th>4</th>\n",
              "      <td>240</td>\n",
              "      <td>24</td>\n",
              "      <td>1684</td>\n",
              "      <td>http://bostoncoffeecake.com/...</td>\n",
              "      <td>0</td>\n",
              "    </tr>\n",
              "    <tr>\n",
              "      <th>...</th>\n",
              "      <td>...</td>\n",
              "      <td>...</td>\n",
              "      <td>...</td>\n",
              "      <td>...</td>\n",
              "      <td>...</td>\n",
              "    </tr>\n",
              "    <tr>\n",
              "      <th>4794</th>\n",
              "      <td>52</td>\n",
              "      <td>8</td>\n",
              "      <td>118</td>\n",
              "      <td>http://aridfoods.com/V4/MGen/F97a8a294cf7c5e90...</td>\n",
              "      <td>1</td>\n",
              "    </tr>\n",
              "    <tr>\n",
              "      <th>4795</th>\n",
              "      <td>-1</td>\n",
              "      <td>-1</td>\n",
              "      <td>-1</td>\n",
              "      <td>http://www.mazda.co.jp/...</td>\n",
              "      <td>0</td>\n",
              "    </tr>\n",
              "    <tr>\n",
              "      <th>4796</th>\n",
              "      <td>-1</td>\n",
              "      <td>-1</td>\n",
              "      <td>-1</td>\n",
              "      <td>http://www.fotografaemsaopaulo.com.br/wp-admin...</td>\n",
              "      <td>1</td>\n",
              "    </tr>\n",
              "    <tr>\n",
              "      <th>4797</th>\n",
              "      <td>-1</td>\n",
              "      <td>-1</td>\n",
              "      <td>-1</td>\n",
              "      <td>http://agenda.wehrensarl.ch/libraries/joomla/h...</td>\n",
              "      <td>1</td>\n",
              "    </tr>\n",
              "    <tr>\n",
              "      <th>4798</th>\n",
              "      <td>172</td>\n",
              "      <td>68</td>\n",
              "      <td>745</td>\n",
              "      <td>http://www.waterfrontrecords.com/...</td>\n",
              "      <td>0</td>\n",
              "    </tr>\n",
              "  </tbody>\n",
              "</table>\n",
              "<p>4799 rows × 5 columns</p>\n",
              "</div>"
            ],
            "text/plain": [
              "      create_age(months)  expiry_age(months)  update_age(days)  \\\n",
              "0                     -1                  -1                -1   \n",
              "1                    212                  16               663   \n",
              "2                     -1                  -1                -1   \n",
              "3                    198                   6               186   \n",
              "4                    240                  24              1684   \n",
              "...                  ...                 ...               ...   \n",
              "4794                  52                   8               118   \n",
              "4795                  -1                  -1                -1   \n",
              "4796                  -1                  -1                -1   \n",
              "4797                  -1                  -1                -1   \n",
              "4798                 172                  68               745   \n",
              "\n",
              "                                                    URL  Label  \n",
              "0     http://account-google-com.ngate.my/c44cca40176...      1  \n",
              "1                  http://www.coffeespecialties.com/...      0  \n",
              "2     http://black.pk/wp-content/2013/04/bp.postale/...      1  \n",
              "3                       http://atomicsoda.com/manutd...      0  \n",
              "4                       http://bostoncoffeecake.com/...      0  \n",
              "...                                                 ...    ...  \n",
              "4794  http://aridfoods.com/V4/MGen/F97a8a294cf7c5e90...      1  \n",
              "4795                         http://www.mazda.co.jp/...      0  \n",
              "4796  http://www.fotografaemsaopaulo.com.br/wp-admin...      1  \n",
              "4797  http://agenda.wehrensarl.ch/libraries/joomla/h...      1  \n",
              "4798               http://www.waterfrontrecords.com/...      0  \n",
              "\n",
              "[4799 rows x 5 columns]"
            ]
          },
          "execution_count": 4,
          "metadata": {},
          "output_type": "execute_result"
        }
      ],
      "source": [
        "data"
      ]
    },
    {
      "cell_type": "code",
      "execution_count": 10,
      "metadata": {
        "colab": {
          "base_uri": "https://localhost:8080/"
        },
        "id": "DNsK_xn-KMMs",
        "outputId": "0ed2891e-0527-4e49-ffbb-e3f2a847c5b5"
      },
      "outputs": [
        {
          "data": {
            "text/plain": [
              "0       1\n",
              "1       0\n",
              "2       1\n",
              "3       0\n",
              "4       0\n",
              "       ..\n",
              "4794    1\n",
              "4795    0\n",
              "4796    1\n",
              "4797    1\n",
              "4798    0\n",
              "Name: Label, Length: 4799, dtype: int64"
            ]
          },
          "execution_count": 10,
          "metadata": {
            "tags": []
          },
          "output_type": "execute_result"
        }
      ],
      "source": [
        "labels = data['Label']\n",
        "labels"
      ]
    },
    {
      "cell_type": "code",
      "execution_count": 17,
      "metadata": {
        "id": "MVhYF4BKLpgj"
      },
      "outputs": [],
      "source": [
        "# m"
      ]
    },
    {
      "cell_type": "markdown",
      "metadata": {
        "id": "VMXTc8OoMST8"
      },
      "source": [
        "# How to Handle URLS:\n",
        "\n",
        "\n",
        "*   Length\n",
        "*   Number Special characters (percert)\n",
        "*   Number of slashes (split('/'))\n",
        "*   Get rid of ... and http \n",
        "*   Check whether http vs https\n",
        "*   number of numbers (percent)\n",
        "*   .com, .net, .com.mx (suffix type)\n",
        "*   number of '.' (percent)\n",
        "*   number of . in first section\n",
        "*   number of unique characters (percent)\n",
        "*   url entropy \n",
        "*   number of alphabetical characters (percent)\n",
        "*   number of hyphens (percent)\n",
        "*   \n",
        "\n"
      ]
    },
    {
      "cell_type": "code",
      "execution_count": 31,
      "metadata": {},
      "outputs": [],
      "source": [
        "from tensorflow import feature_column\r\n",
        "from tensorflow.keras import layers\r\n",
        "import tldextract\r\n",
        "import os\r\n",
        "from sklearn.model_selection import train_test_split\r\n"
      ]
    },
    {
      "cell_type": "code",
      "execution_count": 32,
      "metadata": {
        "id": "zKRDBCxrMMOG"
      },
      "outputs": [],
      "source": [
        "def df_to_dataset(dataframe, shuffle=True, batch_size=32):\r\n",
        "  dataframe = dataframe.copy()\r\n",
        "  labels = dataframe.pop('Label')\r\n",
        "  ds = tf.data.Dataset.from_tensor_slices((dict(dataframe), labels))\r\n",
        "  if shuffle:\r\n",
        "    ds = ds.shuffle(buffer_size=len(dataframe))\r\n",
        "  ds = ds.batch(batch_size)\r\n",
        "  return ds\r\n",
        "\r\n"
      ]
    },
    {
      "cell_type": "code",
      "execution_count": 33,
      "metadata": {},
      "outputs": [],
      "source": [
        "train, test = train_test_split(data, test_size=0.2)\r\n",
        "train, val = train_test_split(train, test_size=0.2)\r\n",
        "\r\n",
        "batch_size = 12\r\n",
        "train = df_to_dataset(train, batch_size=batch_size)\r\n",
        "train_ds = df_to_dataset(train, batch_size=batch_size)\r\n",
        "val_ds = df_to_dataset(val, shuffle=False, batch_size=batch_size)\r\n",
        "test_ds = df_to_dataset(test, shuffle=False, batch_size=batch_size)\r\n",
        "\r\n"
      ]
    },
    {
      "cell_type": "code",
      "execution_count": 22,
      "metadata": {},
      "outputs": [],
      "source": [
        "example_batch = next(iter(ds))[0]"
      ]
    },
    {
      "cell_type": "code",
      "execution_count": null,
      "metadata": {},
      "outputs": [],
      "source": []
    },
    {
      "cell_type": "code",
      "execution_count": 17,
      "metadata": {},
      "outputs": [],
      "source": [
        "feature_columns = []\r\n",
        "\r\n",
        "# numeric cols\r\n",
        "for header in ['create_age(months)', 'expiry_age(months)', 'update_age(days)']:\r\n",
        "  feature_columns.append(feature_column.numeric_column(header))\r\n"
      ]
    },
    {
      "cell_type": "code",
      "execution_count": 18,
      "metadata": {},
      "outputs": [
        {
          "data": {
            "text/plain": [
              "[NumericColumn(key='create_age(months)', shape=(1,), default_value=None, dtype=tf.float32, normalizer_fn=None),\n",
              " NumericColumn(key='expiry_age(months)', shape=(1,), default_value=None, dtype=tf.float32, normalizer_fn=None),\n",
              " NumericColumn(key='update_age(days)', shape=(1,), default_value=None, dtype=tf.float32, normalizer_fn=None)]"
            ]
          },
          "execution_count": 18,
          "metadata": {},
          "output_type": "execute_result"
        }
      ],
      "source": [
        "feature_columns"
      ]
    },
    {
      "cell_type": "code",
      "execution_count": 30,
      "metadata": {},
      "outputs": [
        {
          "ename": "AttributeError",
          "evalue": "'dict' object has no attribute 'shape'",
          "output_type": "error",
          "traceback": [
            "\u001b[1;31m---------------------------------------------------------------------------\u001b[0m",
            "\u001b[1;31mAttributeError\u001b[0m                            Traceback (most recent call last)",
            "\u001b[1;32m<ipython-input-30-b8378d166b33>\u001b[0m in \u001b[0;36m<module>\u001b[1;34m\u001b[0m\n\u001b[0;32m      1\u001b[0m \u001b[0mfeature_layer\u001b[0m \u001b[1;33m=\u001b[0m \u001b[0mtf\u001b[0m\u001b[1;33m.\u001b[0m\u001b[0mkeras\u001b[0m\u001b[1;33m.\u001b[0m\u001b[0mlayers\u001b[0m\u001b[1;33m.\u001b[0m\u001b[0mDenseFeatures\u001b[0m\u001b[1;33m(\u001b[0m\u001b[0mfeature_columns\u001b[0m\u001b[1;33m)\u001b[0m\u001b[1;33m\u001b[0m\u001b[1;33m\u001b[0m\u001b[0m\n\u001b[1;32m----> 2\u001b[1;33m \u001b[0mexample_batch\u001b[0m\u001b[1;33m.\u001b[0m\u001b[0mshape\u001b[0m\u001b[1;33m\u001b[0m\u001b[1;33m\u001b[0m\u001b[0m\n\u001b[0m",
            "\u001b[1;31mAttributeError\u001b[0m: 'dict' object has no attribute 'shape'"
          ]
        }
      ],
      "source": [
        "feature_layer = tf.keras.layers.DenseFeatures(feature_columns)\r\n",
        "feature_layer(example_batch).shape[1:]"
      ]
    },
    {
      "cell_type": "code",
      "execution_count": null,
      "metadata": {},
      "outputs": [],
      "source": [
        "def create_model(feature_layer):\r\n",
        "    model = tf.keras.Sequential([\r\n",
        "                                feature_layer,\r\n",
        "                                layers.Dense(128, activation='relu', kernel_regularizer=tf.keras.regularizers.L2(l2=0.01)),\r\n",
        "                                layers.Dense(128, activation='relu', kernel_regularizer=tf.keras.regularizers.L2(l2=0.01)),\r\n",
        "                                layers.Dropout(.1),\r\n",
        "                                layers.Dense(1)\r\n",
        "                                ])\r\n",
        "    return model\r\n",
        "\r\n",
        "model = create_model(feature_layer)\r\n",
        "model.compile(optimizer='adam',\r\n",
        "              loss=tf.keras.losses.BinaryCrossentropy(from_logits=True),\r\n",
        "              metrics=['accuracy'])\r\n",
        "\r\n",
        "model.fit(train_ds,\r\n",
        "          validation_data=val_ds,\r\n",
        "          epochs=10)\r\n",
        "    \r\n"
      ]
    }
  ],
  "metadata": {
    "colab": {
      "collapsed_sections": [],
      "include_colab_link": true,
      "name": "Group2_Summer_of_AI_Cyber_Challenge.ipynb",
      "provenance": []
    },
    "interpreter": {
      "hash": "528e99d0f460112350f646a0469b322e31e84eddc0f6e9f79ea9f23b2d45d564"
    },
    "kernelspec": {
      "display_name": "Python 3.9.5 64-bit",
      "name": "python3"
    },
    "language_info": {
      "codemirror_mode": {
        "name": "ipython",
        "version": 3
      },
      "file_extension": ".py",
      "mimetype": "text/x-python",
      "name": "python",
      "nbconvert_exporter": "python",
      "pygments_lexer": "ipython3",
      "version": "3.9.5"
    }
  },
  "nbformat": 4,
  "nbformat_minor": 0
}